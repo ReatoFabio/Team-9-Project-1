{
 "cells": [
  {
   "cell_type": "markdown",
   "id": "fancy-point",
   "metadata": {},
   "source": [
    "## Importing Stock and Crypto Data"
   ]
  },
  {
   "cell_type": "code",
   "execution_count": 110,
   "id": "metallic-doctor",
   "metadata": {},
   "outputs": [],
   "source": [
    "#Import Libraries\n",
    "import os\n",
    "from pathlib import Path\n",
    "import json\n",
    "import requests\n",
    "import pandas as pd\n",
    "import numpy as np\n",
    "from dotenv import load_dotenv\n",
    "import alpaca_trade_api as tradeapi\n",
    "import matplotlib.pyplot as plt\n",
    "import hvplot.pandas\n",
    "%matplotlib inline"
   ]
  },
  {
   "cell_type": "code",
   "execution_count": 111,
   "id": "voluntary-payroll",
   "metadata": {},
   "outputs": [],
   "source": [
    "# Alpaca API\n",
    "load_dotenv(\"../../WBF.env\")\n",
    "alpaca_api_key = os.getenv(\"ALPACA_API_KEY\")\n",
    "alpaca_secret_key = os.getenv(\"ALPACA_SECRET_KEY\")\n",
    "alpaca = tradeapi.REST(\n",
    "    alpaca_api_key,\n",
    "    alpaca_secret_key,\n",
    "    api_version=\"v2\")"
   ]
  },
  {
   "cell_type": "markdown",
   "id": "blond-beast",
   "metadata": {},
   "source": [
    "## Stock Data"
   ]
  },
  {
   "cell_type": "code",
   "execution_count": 112,
   "id": "structured-information",
   "metadata": {},
   "outputs": [],
   "source": [
    "# Pulling Stock Price Data\n",
    "\n",
    "# Variables\n",
    "end = pd.Timestamp(\"2021-04-30\", tz=\"America/New_York\").isoformat()\n",
    "start = pd.Timestamp(\"2019-11-30\", tz=\"America/New_York\").isoformat()\n",
    "timeframe = \"1D\"\n",
    "tickers = ['MSFT', 'DIS', 'NFLX', 'MA', 'XOM']\n",
    "\n",
    "# Stock Price DataFrame\n",
    "stock_df = alpaca.get_barset(\n",
    "    tickers,\n",
    "    timeframe,\n",
    "    start = start,\n",
    "    end = end,\n",
    "    limit = 1000\n",
    ").df\n",
    "\n",
    "stock_df.index = stock_df.index.date"
   ]
  },
  {
   "cell_type": "code",
   "execution_count": 113,
   "id": "removable-public",
   "metadata": {},
   "outputs": [
    {
     "data": {
      "text/html": [
       "<div>\n",
       "<style scoped>\n",
       "    .dataframe tbody tr th:only-of-type {\n",
       "        vertical-align: middle;\n",
       "    }\n",
       "\n",
       "    .dataframe tbody tr th {\n",
       "        vertical-align: top;\n",
       "    }\n",
       "\n",
       "    .dataframe thead th {\n",
       "        text-align: right;\n",
       "    }\n",
       "</style>\n",
       "<table border=\"1\" class=\"dataframe\">\n",
       "  <thead>\n",
       "    <tr style=\"text-align: right;\">\n",
       "      <th></th>\n",
       "      <th>MSFT</th>\n",
       "      <th>DIS</th>\n",
       "      <th>NFLX</th>\n",
       "      <th>MA</th>\n",
       "      <th>XOM</th>\n",
       "    </tr>\n",
       "  </thead>\n",
       "  <tbody>\n",
       "    <tr>\n",
       "      <th>2019-12-03</th>\n",
       "      <td>-0.001538</td>\n",
       "      <td>-0.013930</td>\n",
       "      <td>-0.012548</td>\n",
       "      <td>0.001116</td>\n",
       "      <td>-0.007890</td>\n",
       "    </tr>\n",
       "    <tr>\n",
       "      <th>2019-12-04</th>\n",
       "      <td>0.003415</td>\n",
       "      <td>-0.002489</td>\n",
       "      <td>-0.006043</td>\n",
       "      <td>-0.000731</td>\n",
       "      <td>0.011046</td>\n",
       "    </tr>\n",
       "    <tr>\n",
       "      <th>2019-12-05</th>\n",
       "      <td>0.000601</td>\n",
       "      <td>-0.005598</td>\n",
       "      <td>-0.004634</td>\n",
       "      <td>0.010806</td>\n",
       "      <td>-0.003496</td>\n",
       "    </tr>\n",
       "    <tr>\n",
       "      <th>2019-12-06</th>\n",
       "      <td>0.012207</td>\n",
       "      <td>0.001356</td>\n",
       "      <td>0.014528</td>\n",
       "      <td>0.001172</td>\n",
       "      <td>0.015933</td>\n",
       "    </tr>\n",
       "    <tr>\n",
       "      <th>2019-12-09</th>\n",
       "      <td>-0.002570</td>\n",
       "      <td>-0.009956</td>\n",
       "      <td>-0.015591</td>\n",
       "      <td>-0.004409</td>\n",
       "      <td>0.002302</td>\n",
       "    </tr>\n",
       "  </tbody>\n",
       "</table>\n",
       "</div>"
      ],
      "text/plain": [
       "                MSFT       DIS      NFLX        MA       XOM\n",
       "2019-12-03 -0.001538 -0.013930 -0.012548  0.001116 -0.007890\n",
       "2019-12-04  0.003415 -0.002489 -0.006043 -0.000731  0.011046\n",
       "2019-12-05  0.000601 -0.005598 -0.004634  0.010806 -0.003496\n",
       "2019-12-06  0.012207  0.001356  0.014528  0.001172  0.015933\n",
       "2019-12-09 -0.002570 -0.009956 -0.015591 -0.004409  0.002302"
      ]
     },
     "execution_count": 113,
     "metadata": {},
     "output_type": "execute_result"
    }
   ],
   "source": [
    "# Closing Prices DF for Stock Portfolio: stock_returns\n",
    "stock_closing = pd.DataFrame()\n",
    "stock_closing[\"MSFT\"] = stock_df[\"MSFT\"][\"close\"]\n",
    "stock_closing[\"DIS\"] = stock_df[\"DIS\"][\"close\"]\n",
    "stock_closing[\"NFLX\"] = stock_df[\"NFLX\"][\"close\"]\n",
    "stock_closing[\"MA\"] = stock_df[\"MA\"][\"close\"]\n",
    "stock_closing[\"XOM\"] = stock_df[\"XOM\"][\"close\"]\n",
    "\n",
    "stock_returns = stock_closing.pct_change().dropna()\n",
    "stock_returns.head()"
   ]
  },
  {
   "cell_type": "code",
   "execution_count": 114,
   "id": "biological-impact",
   "metadata": {},
   "outputs": [
    {
     "data": {
      "text/html": [
       "<div>\n",
       "<style scoped>\n",
       "    .dataframe tbody tr th:only-of-type {\n",
       "        vertical-align: middle;\n",
       "    }\n",
       "\n",
       "    .dataframe tbody tr th {\n",
       "        vertical-align: top;\n",
       "    }\n",
       "\n",
       "    .dataframe thead th {\n",
       "        text-align: right;\n",
       "    }\n",
       "</style>\n",
       "<table border=\"1\" class=\"dataframe\">\n",
       "  <thead>\n",
       "    <tr style=\"text-align: right;\">\n",
       "      <th></th>\n",
       "      <th>MSFT</th>\n",
       "      <th>DIS</th>\n",
       "      <th>NFLX</th>\n",
       "      <th>MA</th>\n",
       "      <th>XOM</th>\n",
       "      <th>Stock Avg</th>\n",
       "    </tr>\n",
       "  </thead>\n",
       "  <tbody>\n",
       "    <tr>\n",
       "      <th>2019-12-03</th>\n",
       "      <td>-0.001538</td>\n",
       "      <td>-0.013930</td>\n",
       "      <td>-0.012548</td>\n",
       "      <td>0.001116</td>\n",
       "      <td>-0.007890</td>\n",
       "      <td>-0.006958</td>\n",
       "    </tr>\n",
       "    <tr>\n",
       "      <th>2019-12-04</th>\n",
       "      <td>0.003415</td>\n",
       "      <td>-0.002489</td>\n",
       "      <td>-0.006043</td>\n",
       "      <td>-0.000731</td>\n",
       "      <td>0.011046</td>\n",
       "      <td>0.001039</td>\n",
       "    </tr>\n",
       "    <tr>\n",
       "      <th>2019-12-05</th>\n",
       "      <td>0.000601</td>\n",
       "      <td>-0.005598</td>\n",
       "      <td>-0.004634</td>\n",
       "      <td>0.010806</td>\n",
       "      <td>-0.003496</td>\n",
       "      <td>-0.000464</td>\n",
       "    </tr>\n",
       "    <tr>\n",
       "      <th>2019-12-06</th>\n",
       "      <td>0.012207</td>\n",
       "      <td>0.001356</td>\n",
       "      <td>0.014528</td>\n",
       "      <td>0.001172</td>\n",
       "      <td>0.015933</td>\n",
       "      <td>0.009039</td>\n",
       "    </tr>\n",
       "    <tr>\n",
       "      <th>2019-12-09</th>\n",
       "      <td>-0.002570</td>\n",
       "      <td>-0.009956</td>\n",
       "      <td>-0.015591</td>\n",
       "      <td>-0.004409</td>\n",
       "      <td>0.002302</td>\n",
       "      <td>-0.006045</td>\n",
       "    </tr>\n",
       "  </tbody>\n",
       "</table>\n",
       "</div>"
      ],
      "text/plain": [
       "                MSFT       DIS      NFLX        MA       XOM  Stock Avg\n",
       "2019-12-03 -0.001538 -0.013930 -0.012548  0.001116 -0.007890  -0.006958\n",
       "2019-12-04  0.003415 -0.002489 -0.006043 -0.000731  0.011046   0.001039\n",
       "2019-12-05  0.000601 -0.005598 -0.004634  0.010806 -0.003496  -0.000464\n",
       "2019-12-06  0.012207  0.001356  0.014528  0.001172  0.015933   0.009039\n",
       "2019-12-09 -0.002570 -0.009956 -0.015591 -0.004409  0.002302  -0.006045"
      ]
     },
     "execution_count": 114,
     "metadata": {},
     "output_type": "execute_result"
    }
   ],
   "source": [
    "# Adding Column for Average Daily Returns\n",
    "stock_returns = stock_returns.copy()\n",
    "stock_returns['Stock Avg'] = stock_returns.mean(numeric_only=True, axis=1)\n",
    "stock_returns.head()"
   ]
  },
  {
   "cell_type": "markdown",
   "id": "finnish-productivity",
   "metadata": {},
   "source": [
    "## Crypto Data"
   ]
  },
  {
   "cell_type": "code",
   "execution_count": 115,
   "id": "shared-clinic",
   "metadata": {},
   "outputs": [],
   "source": [
    "# Fetch API Key from Environment Variables\n",
    "api_key = os.getenv('alpha_api_key')"
   ]
  },
  {
   "cell_type": "code",
   "execution_count": 116,
   "id": "declared-settle",
   "metadata": {},
   "outputs": [],
   "source": [
    "# Request Data From API\n",
    "btc_url = \"https://www.alphavantage.co/query?function=DIGITAL_CURRENCY_DAILY&symbol=BTC&market=USD&apikey=\" + api_key\n",
    "btc_data = requests.get(btc_url).json()\n",
    "\n",
    "eth_url = \"https://www.alphavantage.co/query?function=DIGITAL_CURRENCY_DAILY&symbol=ETH&market=USD&apikey=\" + api_key\n",
    "eth_data = requests.get(eth_url).json()\n",
    "\n",
    "ltc_url = \"https://www.alphavantage.co/query?function=DIGITAL_CURRENCY_DAILY&symbol=LTC&market=USD&apikey=\" + api_key\n",
    "ltc_data = requests.get(ltc_url).json()\n",
    "\n",
    "link_url = \"https://www.alphavantage.co/query?function=DIGITAL_CURRENCY_DAILY&symbol=LINK&market=USD&apikey=\" + api_key\n",
    "link_data = requests.get(link_url).json()\n",
    "\n",
    "doge_url = \"https://www.alphavantage.co/query?function=DIGITAL_CURRENCY_DAILY&symbol=DOGE&market=USD&apikey=\" + api_key\n",
    "doge_data = requests.get(doge_url).json()"
   ]
  },
  {
   "cell_type": "code",
   "execution_count": 117,
   "id": "inner-prison",
   "metadata": {},
   "outputs": [],
   "source": [
    "# Create DataFrames\n",
    "btc_df = pd.DataFrame.from_dict(btc_data['Time Series (Digital Currency Daily)'], orient='index')\n",
    "eth_df = pd.DataFrame.from_dict(eth_data['Time Series (Digital Currency Daily)'], orient='index')\n",
    "ltc_df = pd.DataFrame.from_dict(ltc_data['Time Series (Digital Currency Daily)'], orient='index')\n",
    "link_df = pd.DataFrame.from_dict(link_data['Time Series (Digital Currency Daily)'], orient='index')\n",
    "doge_df = pd.DataFrame.from_dict(doge_data['Time Series (Digital Currency Daily)'], orient='index')"
   ]
  },
  {
   "cell_type": "code",
   "execution_count": 118,
   "id": "parliamentary-cabin",
   "metadata": {},
   "outputs": [],
   "source": [
    "# Clean DataFrames\n",
    "btc_df.dropna(inplace=True)\n",
    "btc_df.rename(columns={\n",
    "    '4a. close (USD)':'BTC close',\n",
    "}, inplace=True)\n",
    "btc_df = btc_df[['BTC close']]\n",
    "btc_df.sort_index(inplace=True)\n",
    "\n",
    "eth_df.dropna(inplace=True)\n",
    "eth_df.rename(columns={\n",
    "    '4a. close (USD)':'ETH close',\n",
    "}, inplace=True)\n",
    "eth_df = eth_df[['ETH close']]\n",
    "eth_df.sort_index(inplace=True)\n",
    "\n",
    "ltc_df.dropna(inplace=True)\n",
    "ltc_df.rename(columns={\n",
    "    '4a. close (USD)':'LTC close',\n",
    "}, inplace=True)\n",
    "ltc_df = ltc_df[['LTC close']]\n",
    "ltc_df.sort_index(inplace=True)\n",
    "\n",
    "link_df.dropna(inplace=True)\n",
    "link_df.rename(columns={\n",
    "    '4a. close (USD)':'LINK close',\n",
    "}, inplace=True)\n",
    "link_df = link_df[['LINK close']]\n",
    "link_df.sort_index(inplace=True)\n",
    "\n",
    "doge_df.dropna(inplace=True)\n",
    "doge_df.rename(columns={\n",
    "    '4a. close (USD)':'DOGE close',\n",
    "}, inplace=True)\n",
    "doge_df = doge_df[['DOGE close']]\n",
    "doge_df.sort_index(inplace=True)"
   ]
  },
  {
   "cell_type": "code",
   "execution_count": 119,
   "id": "intense-cradle",
   "metadata": {},
   "outputs": [],
   "source": [
    "# Concatenate DataFrames\n",
    "crypto_ohlc = pd.concat([btc_df, eth_df, ltc_df, link_df, doge_df], axis='columns', join='inner')\n",
    "crypto_ohlc[\"BTC close\"]= crypto_ohlc[\"BTC close\"].astype(float)\n",
    "crypto_ohlc[\"ETH close\"]= crypto_ohlc[\"ETH close\"].astype(float)\n",
    "crypto_ohlc[\"LTC close\"]= crypto_ohlc[\"LTC close\"].astype(float)\n",
    "crypto_ohlc[\"LINK close\"]= crypto_ohlc[\"LINK close\"].astype(float)\n",
    "crypto_ohlc[\"DOGE close\"]= crypto_ohlc[\"DOGE close\"].astype(float)"
   ]
  },
  {
   "cell_type": "code",
   "execution_count": 120,
   "id": "apart-projection",
   "metadata": {},
   "outputs": [
    {
     "data": {
      "text/html": [
       "<div>\n",
       "<style scoped>\n",
       "    .dataframe tbody tr th:only-of-type {\n",
       "        vertical-align: middle;\n",
       "    }\n",
       "\n",
       "    .dataframe tbody tr th {\n",
       "        vertical-align: top;\n",
       "    }\n",
       "\n",
       "    .dataframe thead th {\n",
       "        text-align: right;\n",
       "    }\n",
       "</style>\n",
       "<table border=\"1\" class=\"dataframe\">\n",
       "  <thead>\n",
       "    <tr style=\"text-align: right;\">\n",
       "      <th></th>\n",
       "      <th>BTC close</th>\n",
       "      <th>ETH close</th>\n",
       "      <th>LTC close</th>\n",
       "      <th>LINK close</th>\n",
       "      <th>DOGE close</th>\n",
       "    </tr>\n",
       "  </thead>\n",
       "  <tbody>\n",
       "    <tr>\n",
       "      <th>2019-11-30</th>\n",
       "      <td>7541.89</td>\n",
       "      <td>151.37</td>\n",
       "      <td>47.21</td>\n",
       "      <td>2.2373</td>\n",
       "      <td>0.002292</td>\n",
       "    </tr>\n",
       "    <tr>\n",
       "      <th>2019-12-01</th>\n",
       "      <td>7390.89</td>\n",
       "      <td>150.73</td>\n",
       "      <td>47.45</td>\n",
       "      <td>2.1638</td>\n",
       "      <td>0.002265</td>\n",
       "    </tr>\n",
       "    <tr>\n",
       "      <th>2019-12-02</th>\n",
       "      <td>7294.28</td>\n",
       "      <td>148.65</td>\n",
       "      <td>45.45</td>\n",
       "      <td>2.0911</td>\n",
       "      <td>0.002219</td>\n",
       "    </tr>\n",
       "    <tr>\n",
       "      <th>2019-12-03</th>\n",
       "      <td>7292.71</td>\n",
       "      <td>147.17</td>\n",
       "      <td>44.75</td>\n",
       "      <td>2.1222</td>\n",
       "      <td>0.002178</td>\n",
       "    </tr>\n",
       "    <tr>\n",
       "      <th>2019-12-04</th>\n",
       "      <td>7194.32</td>\n",
       "      <td>145.38</td>\n",
       "      <td>44.67</td>\n",
       "      <td>2.0290</td>\n",
       "      <td>0.002168</td>\n",
       "    </tr>\n",
       "  </tbody>\n",
       "</table>\n",
       "</div>"
      ],
      "text/plain": [
       "            BTC close  ETH close  LTC close  LINK close  DOGE close\n",
       "2019-11-30    7541.89     151.37      47.21      2.2373    0.002292\n",
       "2019-12-01    7390.89     150.73      47.45      2.1638    0.002265\n",
       "2019-12-02    7294.28     148.65      45.45      2.0911    0.002219\n",
       "2019-12-03    7292.71     147.17      44.75      2.1222    0.002178\n",
       "2019-12-04    7194.32     145.38      44.67      2.0290    0.002168"
      ]
     },
     "execution_count": 120,
     "metadata": {},
     "output_type": "execute_result"
    }
   ],
   "source": [
    "# Crypto Closing Prices DataFrame\n",
    "crypto_ohlc = crypto_ohlc['2019-11-30':'2021-04-30']\n",
    "crypto_ohlc.head()"
   ]
  },
  {
   "cell_type": "code",
   "execution_count": 121,
   "id": "cloudy-australian",
   "metadata": {},
   "outputs": [],
   "source": [
    "# Crypto Daily Returns DataFrame\n",
    "crypto_returns = crypto_ohlc.pct_change().dropna()"
   ]
  },
  {
   "cell_type": "code",
   "execution_count": 123,
   "id": "dutch-sheffield",
   "metadata": {},
   "outputs": [
    {
     "data": {
      "text/html": [
       "<div>\n",
       "<style scoped>\n",
       "    .dataframe tbody tr th:only-of-type {\n",
       "        vertical-align: middle;\n",
       "    }\n",
       "\n",
       "    .dataframe tbody tr th {\n",
       "        vertical-align: top;\n",
       "    }\n",
       "\n",
       "    .dataframe thead th {\n",
       "        text-align: right;\n",
       "    }\n",
       "</style>\n",
       "<table border=\"1\" class=\"dataframe\">\n",
       "  <thead>\n",
       "    <tr style=\"text-align: right;\">\n",
       "      <th></th>\n",
       "      <th>BTC close</th>\n",
       "      <th>ETH close</th>\n",
       "      <th>LTC close</th>\n",
       "      <th>LINK close</th>\n",
       "      <th>DOGE close</th>\n",
       "      <th>Crypto Avg</th>\n",
       "    </tr>\n",
       "  </thead>\n",
       "  <tbody>\n",
       "    <tr>\n",
       "      <th>2019-12-01</th>\n",
       "      <td>-0.020022</td>\n",
       "      <td>-0.004228</td>\n",
       "      <td>0.005084</td>\n",
       "      <td>-0.032852</td>\n",
       "      <td>-0.011781</td>\n",
       "      <td>-0.012760</td>\n",
       "    </tr>\n",
       "    <tr>\n",
       "      <th>2019-12-02</th>\n",
       "      <td>-0.013071</td>\n",
       "      <td>-0.013800</td>\n",
       "      <td>-0.042150</td>\n",
       "      <td>-0.033598</td>\n",
       "      <td>-0.020046</td>\n",
       "      <td>-0.024533</td>\n",
       "    </tr>\n",
       "    <tr>\n",
       "      <th>2019-12-03</th>\n",
       "      <td>-0.000215</td>\n",
       "      <td>-0.009956</td>\n",
       "      <td>-0.015402</td>\n",
       "      <td>0.014873</td>\n",
       "      <td>-0.018564</td>\n",
       "      <td>-0.005853</td>\n",
       "    </tr>\n",
       "    <tr>\n",
       "      <th>2019-12-04</th>\n",
       "      <td>-0.013492</td>\n",
       "      <td>-0.012163</td>\n",
       "      <td>-0.001788</td>\n",
       "      <td>-0.043917</td>\n",
       "      <td>-0.004591</td>\n",
       "      <td>-0.015190</td>\n",
       "    </tr>\n",
       "    <tr>\n",
       "      <th>2019-12-05</th>\n",
       "      <td>0.027060</td>\n",
       "      <td>0.018710</td>\n",
       "      <td>0.003134</td>\n",
       "      <td>-0.010941</td>\n",
       "      <td>0.003367</td>\n",
       "      <td>0.008266</td>\n",
       "    </tr>\n",
       "  </tbody>\n",
       "</table>\n",
       "</div>"
      ],
      "text/plain": [
       "            BTC close  ETH close  LTC close  LINK close  DOGE close  \\\n",
       "2019-12-01  -0.020022  -0.004228   0.005084   -0.032852   -0.011781   \n",
       "2019-12-02  -0.013071  -0.013800  -0.042150   -0.033598   -0.020046   \n",
       "2019-12-03  -0.000215  -0.009956  -0.015402    0.014873   -0.018564   \n",
       "2019-12-04  -0.013492  -0.012163  -0.001788   -0.043917   -0.004591   \n",
       "2019-12-05   0.027060   0.018710   0.003134   -0.010941    0.003367   \n",
       "\n",
       "            Crypto Avg  \n",
       "2019-12-01   -0.012760  \n",
       "2019-12-02   -0.024533  \n",
       "2019-12-03   -0.005853  \n",
       "2019-12-04   -0.015190  \n",
       "2019-12-05    0.008266  "
      ]
     },
     "execution_count": 123,
     "metadata": {},
     "output_type": "execute_result"
    }
   ],
   "source": [
    "# Adding Column for Average Daily Returns\n",
    "crypto_returns = crypto_returns.copy()\n",
    "crypto_returns['Crypto Avg'] = crypto_returns.mean(numeric_only=True, axis=1)\n",
    "crypto_returns.head()"
   ]
  },
  {
   "cell_type": "markdown",
   "id": "moving-security",
   "metadata": {},
   "source": [
    "### S&P 500 Data"
   ]
  },
  {
   "cell_type": "code",
   "execution_count": 147,
   "id": "fatty-cabin",
   "metadata": {},
   "outputs": [],
   "source": [
    "csvpath = Path(\"SP500_PriceData - Sheet1 (3).csv\")\n",
    "sp500_df = pd.read_csv(csvpath)\n",
    "sp500_df.set_index(pd.to_datetime(sp500_df['Date'], infer_datetime_format=True), inplace=True)\n",
    "sp500_df.drop(columns=['Date'], inplace=True)\n",
    "sp500_returns_df = sp500_df.pct_change()\n",
    "sp500_returns_df = sp500_returns_df.rename(columns={\"Close\": \"S&P 500\"})\n",
    "sp500_returns_df = sp500_returns_df.dropna()\n",
    "sp500_returns_df.index = sp500_returns_df.index.date"
   ]
  },
  {
   "cell_type": "markdown",
   "id": "million-economics",
   "metadata": {},
   "source": [
    "### Standard Deviations"
   ]
  },
  {
   "cell_type": "code",
   "execution_count": 124,
   "id": "buried-prefix",
   "metadata": {},
   "outputs": [
    {
     "data": {
      "text/plain": [
       "XOM          0.030084\n",
       "NFLX         0.028559\n",
       "DIS          0.027506\n",
       "MA           0.026856\n",
       "MSFT         0.024596\n",
       "Stock Avg    0.020994\n",
       "dtype: float64"
      ]
     },
     "execution_count": 124,
     "metadata": {},
     "output_type": "execute_result"
    }
   ],
   "source": [
    "# Standard Deviations for Each Stock\n",
    "stock_std = stock_returns.std()\n",
    "stock_std.sort_values(ascending=False)"
   ]
  },
  {
   "cell_type": "code",
   "execution_count": 125,
   "id": "activated-popularity",
   "metadata": {},
   "outputs": [
    {
     "data": {
      "text/plain": [
       "DOGE close    0.196385\n",
       "LINK close    0.067637\n",
       "Crypto Avg    0.060490\n",
       "LTC close     0.054185\n",
       "ETH close     0.052605\n",
       "BTC close     0.040412\n",
       "dtype: float64"
      ]
     },
     "execution_count": 125,
     "metadata": {},
     "output_type": "execute_result"
    }
   ],
   "source": [
    "# Standard Deviations for Cryptocurrencies\n",
    "crypto_std = crypto_returns.std()\n",
    "crypto_std.sort_values(ascending=False)"
   ]
  },
  {
   "cell_type": "markdown",
   "id": "manual-johnson",
   "metadata": {},
   "source": [
    "### Annualized Standard Deviations"
   ]
  },
  {
   "cell_type": "code",
   "execution_count": 126,
   "id": "republican-flood",
   "metadata": {},
   "outputs": [
    {
     "data": {
      "text/plain": [
       "XOM          0.477563\n",
       "NFLX         0.453361\n",
       "DIS          0.436641\n",
       "MA           0.426324\n",
       "MSFT         0.390452\n",
       "Stock Avg    0.333268\n",
       "dtype: float64"
      ]
     },
     "execution_count": 126,
     "metadata": {},
     "output_type": "execute_result"
    }
   ],
   "source": [
    "# Annualized Standard Deviations for Each Stock\n",
    "annualized_stock_std = stock_std * np.sqrt(252)\n",
    "annualized_stock_std.sort_values(ascending=False)"
   ]
  },
  {
   "cell_type": "code",
   "execution_count": 127,
   "id": "decreased-netscape",
   "metadata": {},
   "outputs": [
    {
     "data": {
      "text/plain": [
       "DOGE close    3.751935\n",
       "LINK close    1.292201\n",
       "Crypto Avg    1.155664\n",
       "LTC close     1.035194\n",
       "ETH close     1.005008\n",
       "BTC close     0.772070\n",
       "dtype: float64"
      ]
     },
     "execution_count": 127,
     "metadata": {},
     "output_type": "execute_result"
    }
   ],
   "source": [
    "# Annualized Standard Deviations for Crypto Portfolio\n",
    "annualized_crypto_std = crypto_std * np.sqrt(365)\n",
    "annualized_crypto_std.sort_values(ascending=False)"
   ]
  },
  {
   "cell_type": "markdown",
   "id": "micro-sensitivity",
   "metadata": {},
   "source": [
    "### Rolling Standard Deviaitions"
   ]
  },
  {
   "cell_type": "code",
   "execution_count": 129,
   "id": "occupied-international",
   "metadata": {},
   "outputs": [
    {
     "data": {
      "text/html": [
       "<div>\n",
       "<style scoped>\n",
       "    .dataframe tbody tr th:only-of-type {\n",
       "        vertical-align: middle;\n",
       "    }\n",
       "\n",
       "    .dataframe tbody tr th {\n",
       "        vertical-align: top;\n",
       "    }\n",
       "\n",
       "    .dataframe thead th {\n",
       "        text-align: right;\n",
       "    }\n",
       "</style>\n",
       "<table border=\"1\" class=\"dataframe\">\n",
       "  <thead>\n",
       "    <tr style=\"text-align: right;\">\n",
       "      <th></th>\n",
       "      <th>MSFT</th>\n",
       "      <th>DIS</th>\n",
       "      <th>NFLX</th>\n",
       "      <th>MA</th>\n",
       "      <th>XOM</th>\n",
       "      <th>Stock Avg</th>\n",
       "    </tr>\n",
       "  </thead>\n",
       "  <tbody>\n",
       "    <tr>\n",
       "      <th>2019-12-31</th>\n",
       "      <td>0.005724</td>\n",
       "      <td>0.008067</td>\n",
       "      <td>0.017691</td>\n",
       "      <td>0.005718</td>\n",
       "      <td>0.008981</td>\n",
       "      <td>0.006330</td>\n",
       "    </tr>\n",
       "    <tr>\n",
       "      <th>2020-01-02</th>\n",
       "      <td>0.006897</td>\n",
       "      <td>0.009619</td>\n",
       "      <td>0.017725</td>\n",
       "      <td>0.006587</td>\n",
       "      <td>0.009346</td>\n",
       "      <td>0.007259</td>\n",
       "    </tr>\n",
       "    <tr>\n",
       "      <th>2020-01-03</th>\n",
       "      <td>0.007879</td>\n",
       "      <td>0.009940</td>\n",
       "      <td>0.017944</td>\n",
       "      <td>0.007143</td>\n",
       "      <td>0.009378</td>\n",
       "      <td>0.007857</td>\n",
       "    </tr>\n",
       "    <tr>\n",
       "      <th>2020-01-06</th>\n",
       "      <td>0.007861</td>\n",
       "      <td>0.009942</td>\n",
       "      <td>0.018794</td>\n",
       "      <td>0.006860</td>\n",
       "      <td>0.009418</td>\n",
       "      <td>0.007934</td>\n",
       "    </tr>\n",
       "    <tr>\n",
       "      <th>2020-01-07</th>\n",
       "      <td>0.007976</td>\n",
       "      <td>0.009934</td>\n",
       "      <td>0.019193</td>\n",
       "      <td>0.006934</td>\n",
       "      <td>0.009059</td>\n",
       "      <td>0.008023</td>\n",
       "    </tr>\n",
       "  </tbody>\n",
       "</table>\n",
       "</div>"
      ],
      "text/plain": [
       "                MSFT       DIS      NFLX        MA       XOM  Stock Avg\n",
       "2019-12-31  0.005724  0.008067  0.017691  0.005718  0.008981   0.006330\n",
       "2020-01-02  0.006897  0.009619  0.017725  0.006587  0.009346   0.007259\n",
       "2020-01-03  0.007879  0.009940  0.017944  0.007143  0.009378   0.007857\n",
       "2020-01-06  0.007861  0.009942  0.018794  0.006860  0.009418   0.007934\n",
       "2020-01-07  0.007976  0.009934  0.019193  0.006934  0.009059   0.008023"
      ]
     },
     "execution_count": 129,
     "metadata": {},
     "output_type": "execute_result"
    }
   ],
   "source": [
    "# 20-Day Rolling Standard Deviations for Stock Portfolio\n",
    "rolling_stock_std = stock_returns.rolling(window=20).std().dropna()\n",
    "rolling_stock_std.head()"
   ]
  },
  {
   "cell_type": "code",
   "execution_count": 130,
   "id": "promotional-venture",
   "metadata": {},
   "outputs": [
    {
     "data": {
      "text/html": [
       "<div>\n",
       "<style scoped>\n",
       "    .dataframe tbody tr th:only-of-type {\n",
       "        vertical-align: middle;\n",
       "    }\n",
       "\n",
       "    .dataframe tbody tr th {\n",
       "        vertical-align: top;\n",
       "    }\n",
       "\n",
       "    .dataframe thead th {\n",
       "        text-align: right;\n",
       "    }\n",
       "</style>\n",
       "<table border=\"1\" class=\"dataframe\">\n",
       "  <thead>\n",
       "    <tr style=\"text-align: right;\">\n",
       "      <th></th>\n",
       "      <th>BTC close</th>\n",
       "      <th>ETH close</th>\n",
       "      <th>LTC close</th>\n",
       "      <th>LINK close</th>\n",
       "      <th>DOGE close</th>\n",
       "      <th>Crypto Avg</th>\n",
       "    </tr>\n",
       "  </thead>\n",
       "  <tbody>\n",
       "    <tr>\n",
       "      <th>2019-12-20</th>\n",
       "      <td>0.029038</td>\n",
       "      <td>0.034134</td>\n",
       "      <td>0.037775</td>\n",
       "      <td>0.046877</td>\n",
       "      <td>0.017360</td>\n",
       "      <td>0.029631</td>\n",
       "    </tr>\n",
       "    <tr>\n",
       "      <th>2019-12-21</th>\n",
       "      <td>0.028765</td>\n",
       "      <td>0.034125</td>\n",
       "      <td>0.037674</td>\n",
       "      <td>0.046842</td>\n",
       "      <td>0.017510</td>\n",
       "      <td>0.029612</td>\n",
       "    </tr>\n",
       "    <tr>\n",
       "      <th>2019-12-22</th>\n",
       "      <td>0.030944</td>\n",
       "      <td>0.035736</td>\n",
       "      <td>0.039238</td>\n",
       "      <td>0.047169</td>\n",
       "      <td>0.017990</td>\n",
       "      <td>0.030935</td>\n",
       "    </tr>\n",
       "    <tr>\n",
       "      <th>2019-12-23</th>\n",
       "      <td>0.031504</td>\n",
       "      <td>0.036242</td>\n",
       "      <td>0.039611</td>\n",
       "      <td>0.047296</td>\n",
       "      <td>0.017822</td>\n",
       "      <td>0.031373</td>\n",
       "    </tr>\n",
       "    <tr>\n",
       "      <th>2019-12-24</th>\n",
       "      <td>0.031404</td>\n",
       "      <td>0.036239</td>\n",
       "      <td>0.039608</td>\n",
       "      <td>0.046447</td>\n",
       "      <td>0.018058</td>\n",
       "      <td>0.031275</td>\n",
       "    </tr>\n",
       "  </tbody>\n",
       "</table>\n",
       "</div>"
      ],
      "text/plain": [
       "            BTC close  ETH close  LTC close  LINK close  DOGE close  \\\n",
       "2019-12-20   0.029038   0.034134   0.037775    0.046877    0.017360   \n",
       "2019-12-21   0.028765   0.034125   0.037674    0.046842    0.017510   \n",
       "2019-12-22   0.030944   0.035736   0.039238    0.047169    0.017990   \n",
       "2019-12-23   0.031504   0.036242   0.039611    0.047296    0.017822   \n",
       "2019-12-24   0.031404   0.036239   0.039608    0.046447    0.018058   \n",
       "\n",
       "            Crypto Avg  \n",
       "2019-12-20    0.029631  \n",
       "2019-12-21    0.029612  \n",
       "2019-12-22    0.030935  \n",
       "2019-12-23    0.031373  \n",
       "2019-12-24    0.031275  "
      ]
     },
     "execution_count": 130,
     "metadata": {},
     "output_type": "execute_result"
    }
   ],
   "source": [
    "# 20-Day Rolling Standard Deviations for Crypto Portfolio\n",
    "rolling_crypto_std = crypto_returns.rolling(window=20).std().dropna()\n",
    "rolling_crypto_std.head()"
   ]
  },
  {
   "cell_type": "code",
   "execution_count": 133,
   "id": "uniform-anatomy",
   "metadata": {},
   "outputs": [
    {
     "data": {
      "text/plain": [
       "<matplotlib.axes._subplots.AxesSubplot at 0x7ff6d01d98d0>"
      ]
     },
     "execution_count": 133,
     "metadata": {},
     "output_type": "execute_result"
    },
    {
     "data": {
      "image/png": "[encoded data removed]",
      "text/plain": [
       "<Figure size 720x360 with 1 Axes>"
      ]
     },
     "metadata": {
      "needs_background": "light"
     },
     "output_type": "display_data"
    }
   ],
   "source": [
    "# Plot for 20-Day Rolling Standard Deviations for Stock Portfolio\n",
    "rolling_stock_std.plot(figsize=(10,5), title=\"Stock Portfolio 20-Day Rolling Standard Deviation\")"
   ]
  },
  {
   "cell_type": "code",
   "execution_count": 134,
   "id": "provincial-reproduction",
   "metadata": {},
   "outputs": [
    {
     "data": {
      "text/plain": [
       "<matplotlib.axes._subplots.AxesSubplot at 0x7ff6f813e410>"
      ]
     },
     "execution_count": 134,
     "metadata": {},
     "output_type": "execute_result"
    },
    {
     "data": {
      "image/png": "[encoded data removed]",
      "text/plain": [
       "<Figure size 720x360 with 1 Axes>"
      ]
     },
     "metadata": {
      "needs_background": "light"
     },
     "output_type": "display_data"
    }
   ],
   "source": [
    "# Plot for 20-Day Rolling Standard Deviations for Crypto Portfolio\n",
    "rolling_crypto_std.plot(figsize=(10,5), title=\"Crypto Portfolio Average Standard Deveation, 20-day rolling\")"
   ]
  },
  {
   "cell_type": "code",
   "execution_count": 136,
   "id": "involved-system",
   "metadata": {},
   "outputs": [
    {
     "data": {
      "text/plain": [
       "<matplotlib.axes._subplots.AxesSubplot at 0x7ff6e0091490>"
      ]
     },
     "execution_count": 136,
     "metadata": {},
     "output_type": "execute_result"
    },
    {
     "data": {
      "image/png": "[encoded data removed]",
      "text/plain": [
       "<Figure size 720x360 with 1 Axes>"
      ]
     },
     "metadata": {
      "needs_background": "light"
     },
     "output_type": "display_data"
    }
   ],
   "source": [
    "# Plot for 20-Day Rolling Standard Deviations for Stock Portfolio\n",
    "rolling_stock_std['Stock Avg'].plot(figsize=(10,5), title=\"Stock Portfolio 20-Day Rolling Standard Deviation\")"
   ]
  },
  {
   "cell_type": "code",
   "execution_count": 137,
   "id": "honey-potato",
   "metadata": {},
   "outputs": [
    {
     "data": {
      "text/plain": [
       "<matplotlib.axes._subplots.AxesSubplot at 0x7ff6f82b0b50>"
      ]
     },
     "execution_count": 137,
     "metadata": {},
     "output_type": "execute_result"
    },
    {
     "data": {
      "image/png": "[encoded data removed]",
      "text/plain": [
       "<Figure size 720x360 with 1 Axes>"
      ]
     },
     "metadata": {
      "needs_background": "light"
     },
     "output_type": "display_data"
    }
   ],
   "source": [
    "# Plot for 20-Day Rolling Standard Deviations for Crypto Portfolio\n",
    "rolling_crypto_std['Crypto Avg'].plot(figsize=(10,5), title=\"Crypto Portfolio Average Standard Deveation, 20-day rolling\")"
   ]
  },
  {
   "cell_type": "markdown",
   "id": "crazy-audio",
   "metadata": {},
   "source": [
    "### Beta Analysis"
   ]
  },
  {
   "cell_type": "code",
   "execution_count": 158,
   "id": "hydraulic-amateur",
   "metadata": {},
   "outputs": [
    {
     "data": {
      "text/plain": [
       "<matplotlib.axes._subplots.AxesSubplot at 0x7ff6d82b27d0>"
      ]
     },
     "execution_count": 158,
     "metadata": {},
     "output_type": "execute_result"
    },
    {
     "data": {
      "image/png": "[encoded data removed]",
      "text/plain": [
       "<Figure size 1440x720 with 1 Axes>"
      ]
     },
     "metadata": {
      "needs_background": "light"
     },
     "output_type": "display_data"
    }
   ],
   "source": [
    "# Beta for Stock Portfolio\n",
    "rolling_covariance_stock = stock_returns['Stock Avg'].rolling(window=20).cov(sp500_returns_df['S&P 500'])\n",
    "rolling_variance_stock = stock_returns['Stock Avg'].rolling(window=20).var()\n",
    "beta_stock = rolling_covariance_stock / rolling_variance_stock\n",
    "\n",
    "beta_stock.plot(figsize=(20, 10), title='Rolling 60-Day Beta of Stock Portfolio to the S&P 500')"
   ]
  },
  {
   "cell_type": "code",
   "execution_count": 161,
   "id": "indirect-connecticut",
   "metadata": {},
   "outputs": [
    {
     "data": {
      "text/plain": [
       "<matplotlib.axes._subplots.AxesSubplot at 0x7ff6f812cb50>"
      ]
     },
     "execution_count": 161,
     "metadata": {},
     "output_type": "execute_result"
    },
    {
     "data": {
      "image/png": "[encoded data removed]",
      "text/plain": [
       "<Figure size 1440x720 with 1 Axes>"
      ]
     },
     "metadata": {
      "needs_background": "light"
     },
     "output_type": "display_data"
    }
   ],
   "source": [
    "rolling_covariance_crypto = crypto_returns['Crypto Avg'].rolling(window=20).cov(sp500_returns_df['S&P 500'])\n",
    "rolling_variance_crypto = crypto_returns['Crypto Avg'].rolling(window=20).var()\n",
    "beta_crypto = rolling_covariance_crypto / rolling_variance_crypto\n",
    "\n",
    "beta_crypto.plot(figsize=(20, 10), title='Rolling 20-Day Beta of Crypto Portfolio to the S&P 500')"
   ]
  },
  {
   "cell_type": "code",
   "execution_count": 173,
   "id": "legislative-replication",
   "metadata": {},
   "outputs": [
    {
     "data": {
      "text/plain": [
       "2019-05-01   NaN\n",
       "2019-05-02   NaN\n",
       "2019-05-03   NaN\n",
       "2019-05-06   NaN\n",
       "2019-05-07   NaN\n",
       "2019-05-08   NaN\n",
       "2019-05-09   NaN\n",
       "2019-05-10   NaN\n",
       "2019-05-13   NaN\n",
       "2019-05-14   NaN\n",
       "2019-05-15   NaN\n",
       "2019-05-16   NaN\n",
       "2019-05-17   NaN\n",
       "2019-05-20   NaN\n",
       "2019-05-21   NaN\n",
       "2019-05-22   NaN\n",
       "2019-05-23   NaN\n",
       "2019-05-24   NaN\n",
       "2019-05-28   NaN\n",
       "2019-05-29   NaN\n",
       "2019-05-30   NaN\n",
       "2019-05-31   NaN\n",
       "2019-06-03   NaN\n",
       "2019-06-04   NaN\n",
       "2019-06-05   NaN\n",
       "2019-06-06   NaN\n",
       "2019-06-07   NaN\n",
       "2019-06-10   NaN\n",
       "2019-06-11   NaN\n",
       "2019-06-12   NaN\n",
       "              ..\n",
       "2021-04-01   NaN\n",
       "2021-04-02   NaN\n",
       "2021-04-03   NaN\n",
       "2021-04-04   NaN\n",
       "2021-04-05   NaN\n",
       "2021-04-06   NaN\n",
       "2021-04-07   NaN\n",
       "2021-04-08   NaN\n",
       "2021-04-09   NaN\n",
       "2021-04-10   NaN\n",
       "2021-04-11   NaN\n",
       "2021-04-12   NaN\n",
       "2021-04-13   NaN\n",
       "2021-04-14   NaN\n",
       "2021-04-15   NaN\n",
       "2021-04-16   NaN\n",
       "2021-04-17   NaN\n",
       "2021-04-18   NaN\n",
       "2021-04-19   NaN\n",
       "2021-04-20   NaN\n",
       "2021-04-21   NaN\n",
       "2021-04-22   NaN\n",
       "2021-04-23   NaN\n",
       "2021-04-24   NaN\n",
       "2021-04-25   NaN\n",
       "2021-04-26   NaN\n",
       "2021-04-27   NaN\n",
       "2021-04-28   NaN\n",
       "2021-04-29   NaN\n",
       "2021-04-30   NaN\n",
       "Length: 1021, dtype: float64"
      ]
     },
     "execution_count": 173,
     "metadata": {},
     "output_type": "execute_result"
    }
   ],
   "source": [
    "beta_crypto"
   ]
  },
  {
   "cell_type": "code",
   "execution_count": 174,
   "id": "induced-hayes",
   "metadata": {},
   "outputs": [],
   "source": [
    "covariance_crypto = crypto_returns['Crypto Avg'].cov(sp500_returns_df['S&P 500'])\n",
    "variance_crypto = crypto_returns['Crypto Avg'].var()\n",
    "beta_crypto = covariance_crypto / variance_crypto"
   ]
  },
  {
   "cell_type": "code",
   "execution_count": 175,
   "id": "acute-examination",
   "metadata": {},
   "outputs": [
    {
     "data": {
      "text/plain": [
       "nan"
      ]
     },
     "execution_count": 175,
     "metadata": {},
     "output_type": "execute_result"
    }
   ],
   "source": [
    "beta_crypto"
   ]
  },
  {
   "cell_type": "code",
   "execution_count": 176,
   "id": "determined-ideal",
   "metadata": {},
   "outputs": [],
   "source": [
    "covariance_crypto = crypto_returns['Crypto Avg'].cov(sp500_returns_df['S&P 500'])"
   ]
  },
  {
   "cell_type": "code",
   "execution_count": 179,
   "id": "elementary-error",
   "metadata": {},
   "outputs": [
    {
     "data": {
      "text/plain": [
       "2019-05-01   -0.007502\n",
       "2019-05-02   -0.002124\n",
       "2019-05-03    0.009638\n",
       "2019-05-06   -0.004471\n",
       "2019-05-07   -0.016512\n",
       "2019-05-08   -0.001605\n",
       "2019-05-09   -0.003021\n",
       "2019-05-10    0.003720\n",
       "2019-05-13   -0.024131\n",
       "2019-05-14    0.008016\n",
       "2019-05-15    0.005839\n",
       "2019-05-16    0.008895\n",
       "2019-05-17   -0.005837\n",
       "2019-05-20   -0.006749\n",
       "2019-05-21    0.008496\n",
       "2019-05-22   -0.002824\n",
       "2019-05-23   -0.011914\n",
       "2019-05-24    0.001354\n",
       "2019-05-28   -0.008376\n",
       "2019-05-29   -0.006912\n",
       "2019-05-30    0.002098\n",
       "2019-05-31   -0.013195\n",
       "2019-06-03   -0.002765\n",
       "2019-06-04    0.021432\n",
       "2019-06-05    0.008162\n",
       "2019-06-06    0.006136\n",
       "2019-06-07    0.010498\n",
       "2019-06-10    0.004660\n",
       "2019-06-11   -0.000350\n",
       "2019-06-12   -0.002038\n",
       "                ...   \n",
       "2021-03-18   -0.014761\n",
       "2021-03-19   -0.000603\n",
       "2021-03-22    0.007025\n",
       "2021-03-23   -0.007631\n",
       "2021-03-24   -0.005467\n",
       "2021-03-25    0.005240\n",
       "2021-03-26    0.016631\n",
       "2021-03-29   -0.000868\n",
       "2021-03-30   -0.003158\n",
       "2021-03-31    0.003623\n",
       "2021-04-01    0.011825\n",
       "2021-04-05    0.014438\n",
       "2021-04-06   -0.000974\n",
       "2021-04-07    0.001475\n",
       "2021-04-08    0.004221\n",
       "2021-04-09    0.007720\n",
       "2021-04-12   -0.000196\n",
       "2021-04-13    0.003295\n",
       "2021-04-14   -0.004088\n",
       "2021-04-15    0.011094\n",
       "2021-04-16    0.003609\n",
       "2021-04-19   -0.005306\n",
       "2021-04-20   -0.006802\n",
       "2021-04-21    0.009306\n",
       "2021-04-22   -0.009211\n",
       "2021-04-23    0.010929\n",
       "2021-04-26    0.001782\n",
       "2021-04-27   -0.000215\n",
       "2021-04-28   -0.000846\n",
       "2021-04-29    0.006763\n",
       "Name: S&P 500, Length: 504, dtype: float64"
      ]
     },
     "execution_count": 179,
     "metadata": {},
     "output_type": "execute_result"
    }
   ],
   "source": [
    "sp500_returns_df['S&P 500']"
   ]
  },
  {
   "cell_type": "code",
   "execution_count": 178,
   "id": "virgin-teens",
   "metadata": {},
   "outputs": [
    {
     "data": {
      "text/plain": [
       "2019-12-01   -0.012760\n",
       "2019-12-02   -0.024533\n",
       "2019-12-03   -0.005853\n",
       "2019-12-04   -0.015190\n",
       "2019-12-05    0.008266\n",
       "2019-12-06    0.016776\n",
       "2019-12-07   -0.009134\n",
       "2019-12-08    0.008947\n",
       "2019-12-09   -0.011540\n",
       "2019-12-10    0.005684\n",
       "2019-12-11   -0.012728\n",
       "2019-12-12   -0.005524\n",
       "2019-12-13    0.001690\n",
       "2019-12-14   -0.024059\n",
       "2019-12-15    0.013243\n",
       "2019-12-16   -0.049776\n",
       "2019-12-17   -0.071801\n",
       "2019-12-18    0.078348\n",
       "2019-12-19   -0.025841\n",
       "2019-12-20    0.017029\n",
       "2019-12-21   -0.010970\n",
       "2019-12-22    0.039734\n",
       "2019-12-23   -0.026056\n",
       "2019-12-24   -0.008101\n",
       "2019-12-25   -0.011330\n",
       "2019-12-26    0.006841\n",
       "2019-12-27    0.009897\n",
       "2019-12-28    0.015489\n",
       "2019-12-29    0.014088\n",
       "2019-12-30   -0.019588\n",
       "                ...   \n",
       "2021-04-01    0.046872\n",
       "2021-04-02    0.027483\n",
       "2021-04-03   -0.060385\n",
       "2021-04-04    0.034583\n",
       "2021-04-05    0.044995\n",
       "2021-04-06    0.039833\n",
       "2021-04-07   -0.074593\n",
       "2021-04-08    0.046983\n",
       "2021-04-09   -0.013445\n",
       "2021-04-10    0.052743\n",
       "2021-04-11    0.045084\n",
       "2021-04-12   -0.022238\n",
       "2021-04-13    0.127982\n",
       "2021-04-14    0.108255\n",
       "2021-04-15    0.118318\n",
       "2021-04-16    0.201013\n",
       "2021-04-17   -0.073314\n",
       "2021-04-18   -0.013988\n",
       "2021-04-19    0.019331\n",
       "2021-04-20   -0.008609\n",
       "2021-04-21   -0.030764\n",
       "2021-04-22   -0.043946\n",
       "2021-04-23   -0.021459\n",
       "2021-04-24   -0.037330\n",
       "2021-04-25   -0.005785\n",
       "2021-04-26    0.097036\n",
       "2021-04-27    0.034233\n",
       "2021-04-28    0.038871\n",
       "2021-04-29   -0.016592\n",
       "2021-04-30    0.059360\n",
       "Name: Crypto Avg, Length: 517, dtype: float64"
      ]
     },
     "execution_count": 178,
     "metadata": {},
     "output_type": "execute_result"
    }
   ],
   "source": [
    "crypto_returns['Crypto Avg']"
   ]
  },
  {
   "cell_type": "code",
   "execution_count": 145,
   "id": "second-button",
   "metadata": {},
   "outputs": [
    {
     "data": {
      "text/html": [
       "<div>\n",
       "<style scoped>\n",
       "    .dataframe tbody tr th:only-of-type {\n",
       "        vertical-align: middle;\n",
       "    }\n",
       "\n",
       "    .dataframe tbody tr th {\n",
       "        vertical-align: top;\n",
       "    }\n",
       "\n",
       "    .dataframe thead th {\n",
       "        text-align: right;\n",
       "    }\n",
       "</style>\n",
       "<table border=\"1\" class=\"dataframe\">\n",
       "  <thead>\n",
       "    <tr style=\"text-align: right;\">\n",
       "      <th></th>\n",
       "      <th>MSFT</th>\n",
       "      <th>DIS</th>\n",
       "      <th>NFLX</th>\n",
       "      <th>MA</th>\n",
       "      <th>XOM</th>\n",
       "      <th>Stock Avg</th>\n",
       "    </tr>\n",
       "  </thead>\n",
       "  <tbody>\n",
       "    <tr>\n",
       "      <th>2019-12-03</th>\n",
       "      <td>-0.001538</td>\n",
       "      <td>-0.013930</td>\n",
       "      <td>-0.012548</td>\n",
       "      <td>0.001116</td>\n",
       "      <td>-0.007890</td>\n",
       "      <td>-0.006958</td>\n",
       "    </tr>\n",
       "    <tr>\n",
       "      <th>2019-12-04</th>\n",
       "      <td>0.003415</td>\n",
       "      <td>-0.002489</td>\n",
       "      <td>-0.006043</td>\n",
       "      <td>-0.000731</td>\n",
       "      <td>0.011046</td>\n",
       "      <td>0.001039</td>\n",
       "    </tr>\n",
       "    <tr>\n",
       "      <th>2019-12-05</th>\n",
       "      <td>0.000601</td>\n",
       "      <td>-0.005598</td>\n",
       "      <td>-0.004634</td>\n",
       "      <td>0.010806</td>\n",
       "      <td>-0.003496</td>\n",
       "      <td>-0.000464</td>\n",
       "    </tr>\n",
       "    <tr>\n",
       "      <th>2019-12-06</th>\n",
       "      <td>0.012207</td>\n",
       "      <td>0.001356</td>\n",
       "      <td>0.014528</td>\n",
       "      <td>0.001172</td>\n",
       "      <td>0.015933</td>\n",
       "      <td>0.009039</td>\n",
       "    </tr>\n",
       "    <tr>\n",
       "      <th>2019-12-09</th>\n",
       "      <td>-0.002570</td>\n",
       "      <td>-0.009956</td>\n",
       "      <td>-0.015591</td>\n",
       "      <td>-0.004409</td>\n",
       "      <td>0.002302</td>\n",
       "      <td>-0.006045</td>\n",
       "    </tr>\n",
       "  </tbody>\n",
       "</table>\n",
       "</div>"
      ],
      "text/plain": [
       "                MSFT       DIS      NFLX        MA       XOM  Stock Avg\n",
       "2019-12-03 -0.001538 -0.013930 -0.012548  0.001116 -0.007890  -0.006958\n",
       "2019-12-04  0.003415 -0.002489 -0.006043 -0.000731  0.011046   0.001039\n",
       "2019-12-05  0.000601 -0.005598 -0.004634  0.010806 -0.003496  -0.000464\n",
       "2019-12-06  0.012207  0.001356  0.014528  0.001172  0.015933   0.009039\n",
       "2019-12-09 -0.002570 -0.009956 -0.015591 -0.004409  0.002302  -0.006045"
      ]
     },
     "execution_count": 145,
     "metadata": {},
     "output_type": "execute_result"
    }
   ],
   "source": [
    "stock_returns.head()"
   ]
  },
  {
   "cell_type": "code",
   "execution_count": 146,
   "id": "brutal-gospel",
   "metadata": {},
   "outputs": [
    {
     "data": {
      "text/html": [
       "<div>\n",
       "<style scoped>\n",
       "    .dataframe tbody tr th:only-of-type {\n",
       "        vertical-align: middle;\n",
       "    }\n",
       "\n",
       "    .dataframe tbody tr th {\n",
       "        vertical-align: top;\n",
       "    }\n",
       "\n",
       "    .dataframe thead th {\n",
       "        text-align: right;\n",
       "    }\n",
       "</style>\n",
       "<table border=\"1\" class=\"dataframe\">\n",
       "  <thead>\n",
       "    <tr style=\"text-align: right;\">\n",
       "      <th></th>\n",
       "      <th>S&amp;P 500</th>\n",
       "    </tr>\n",
       "  </thead>\n",
       "  <tbody>\n",
       "    <tr>\n",
       "      <th>2019-04-30</th>\n",
       "      <td>NaN</td>\n",
       "    </tr>\n",
       "    <tr>\n",
       "      <th>2019-05-01</th>\n",
       "      <td>-0.007502</td>\n",
       "    </tr>\n",
       "    <tr>\n",
       "      <th>2019-05-02</th>\n",
       "      <td>-0.002124</td>\n",
       "    </tr>\n",
       "    <tr>\n",
       "      <th>2019-05-03</th>\n",
       "      <td>0.009638</td>\n",
       "    </tr>\n",
       "    <tr>\n",
       "      <th>2019-05-06</th>\n",
       "      <td>-0.004471</td>\n",
       "    </tr>\n",
       "  </tbody>\n",
       "</table>\n",
       "</div>"
      ],
      "text/plain": [
       "             S&P 500\n",
       "2019-04-30       NaN\n",
       "2019-05-01 -0.007502\n",
       "2019-05-02 -0.002124\n",
       "2019-05-03  0.009638\n",
       "2019-05-06 -0.004471"
      ]
     },
     "execution_count": 146,
     "metadata": {},
     "output_type": "execute_result"
    }
   ],
   "source": [
    "sp500_returns_df.head()"
   ]
  },
  {
   "cell_type": "code",
   "execution_count": 144,
   "id": "broken-preserve",
   "metadata": {},
   "outputs": [
    {
     "data": {
      "text/html": [
       "<div>\n",
       "<style scoped>\n",
       "    .dataframe tbody tr th:only-of-type {\n",
       "        vertical-align: middle;\n",
       "    }\n",
       "\n",
       "    .dataframe tbody tr th {\n",
       "        vertical-align: top;\n",
       "    }\n",
       "\n",
       "    .dataframe thead th {\n",
       "        text-align: right;\n",
       "    }\n",
       "</style>\n",
       "<table border=\"1\" class=\"dataframe\">\n",
       "  <thead>\n",
       "    <tr style=\"text-align: right;\">\n",
       "      <th></th>\n",
       "      <th>BTC close</th>\n",
       "      <th>ETH close</th>\n",
       "      <th>LTC close</th>\n",
       "      <th>LINK close</th>\n",
       "      <th>DOGE close</th>\n",
       "      <th>Crypto Avg</th>\n",
       "    </tr>\n",
       "  </thead>\n",
       "  <tbody>\n",
       "    <tr>\n",
       "      <th>2019-12-01</th>\n",
       "      <td>-0.020022</td>\n",
       "      <td>-0.004228</td>\n",
       "      <td>0.005084</td>\n",
       "      <td>-0.032852</td>\n",
       "      <td>-0.011781</td>\n",
       "      <td>-0.012760</td>\n",
       "    </tr>\n",
       "    <tr>\n",
       "      <th>2019-12-02</th>\n",
       "      <td>-0.013071</td>\n",
       "      <td>-0.013800</td>\n",
       "      <td>-0.042150</td>\n",
       "      <td>-0.033598</td>\n",
       "      <td>-0.020046</td>\n",
       "      <td>-0.024533</td>\n",
       "    </tr>\n",
       "    <tr>\n",
       "      <th>2019-12-03</th>\n",
       "      <td>-0.000215</td>\n",
       "      <td>-0.009956</td>\n",
       "      <td>-0.015402</td>\n",
       "      <td>0.014873</td>\n",
       "      <td>-0.018564</td>\n",
       "      <td>-0.005853</td>\n",
       "    </tr>\n",
       "    <tr>\n",
       "      <th>2019-12-04</th>\n",
       "      <td>-0.013492</td>\n",
       "      <td>-0.012163</td>\n",
       "      <td>-0.001788</td>\n",
       "      <td>-0.043917</td>\n",
       "      <td>-0.004591</td>\n",
       "      <td>-0.015190</td>\n",
       "    </tr>\n",
       "    <tr>\n",
       "      <th>2019-12-05</th>\n",
       "      <td>0.027060</td>\n",
       "      <td>0.018710</td>\n",
       "      <td>0.003134</td>\n",
       "      <td>-0.010941</td>\n",
       "      <td>0.003367</td>\n",
       "      <td>0.008266</td>\n",
       "    </tr>\n",
       "  </tbody>\n",
       "</table>\n",
       "</div>"
      ],
      "text/plain": [
       "            BTC close  ETH close  LTC close  LINK close  DOGE close  \\\n",
       "2019-12-01  -0.020022  -0.004228   0.005084   -0.032852   -0.011781   \n",
       "2019-12-02  -0.013071  -0.013800  -0.042150   -0.033598   -0.020046   \n",
       "2019-12-03  -0.000215  -0.009956  -0.015402    0.014873   -0.018564   \n",
       "2019-12-04  -0.013492  -0.012163  -0.001788   -0.043917   -0.004591   \n",
       "2019-12-05   0.027060   0.018710   0.003134   -0.010941    0.003367   \n",
       "\n",
       "            Crypto Avg  \n",
       "2019-12-01   -0.012760  \n",
       "2019-12-02   -0.024533  \n",
       "2019-12-03   -0.005853  \n",
       "2019-12-04   -0.015190  \n",
       "2019-12-05    0.008266  "
      ]
     },
     "execution_count": 144,
     "metadata": {},
     "output_type": "execute_result"
    }
   ],
   "source": [
    "crypto_returns.head()"
   ]
  },
  {
   "cell_type": "markdown",
   "id": "romance-murder",
   "metadata": {},
   "source": [
    "## Crypto DataFrame"
   ]
  },
  {
   "cell_type": "code",
   "execution_count": 150,
   "id": "russian-fireplace",
   "metadata": {},
   "outputs": [
    {
     "data": {
      "text/html": [
       "<div>\n",
       "<style scoped>\n",
       "    .dataframe tbody tr th:only-of-type {\n",
       "        vertical-align: middle;\n",
       "    }\n",
       "\n",
       "    .dataframe tbody tr th {\n",
       "        vertical-align: top;\n",
       "    }\n",
       "\n",
       "    .dataframe thead th {\n",
       "        text-align: right;\n",
       "    }\n",
       "</style>\n",
       "<table border=\"1\" class=\"dataframe\">\n",
       "  <thead>\n",
       "    <tr style=\"text-align: right;\">\n",
       "      <th></th>\n",
       "      <th>S&amp;P 500</th>\n",
       "      <th>MSFT</th>\n",
       "      <th>DIS</th>\n",
       "      <th>NFLX</th>\n",
       "      <th>MA</th>\n",
       "      <th>XOM</th>\n",
       "      <th>Stock Avg</th>\n",
       "      <th>BTC close</th>\n",
       "      <th>ETH close</th>\n",
       "      <th>LTC close</th>\n",
       "      <th>LINK close</th>\n",
       "      <th>DOGE close</th>\n",
       "      <th>Crypto Avg</th>\n",
       "    </tr>\n",
       "  </thead>\n",
       "  <tbody>\n",
       "  </tbody>\n",
       "</table>\n",
       "</div>"
      ],
      "text/plain": [
       "Empty DataFrame\n",
       "Columns: [S&P 500, MSFT, DIS, NFLX, MA, XOM, Stock Avg, BTC close, ETH close, LTC close, LINK close, DOGE close, Crypto Avg]\n",
       "Index: []"
      ]
     },
     "execution_count": 150,
     "metadata": {},
     "output_type": "execute_result"
    }
   ],
   "source": [
    "combined_df"
   ]
  },
  {
   "cell_type": "code",
   "execution_count": null,
   "id": "traditional-peninsula",
   "metadata": {},
   "outputs": [],
   "source": []
  }
 ],
 "metadata": {
  "kernelspec": {
   "display_name": "Python 3",
   "language": "python",
   "name": "python3"
  },
  "language_info": {
   "codemirror_mode": {
    "name": "ipython",
    "version": 3
   },
   "file_extension": ".py",
   "mimetype": "text/x-python",
   "name": "python",
   "nbconvert_exporter": "python",
   "pygments_lexer": "ipython3",
   "version": "3.7.9"
  }
 },
 "nbformat": 4,
 "nbformat_minor": 5
}
