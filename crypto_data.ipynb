{
 "cells": [
  {
   "cell_type": "code",
   "execution_count": 2,
   "id": "5381cf7d-2e8b-4d80-aa43-337d52503d1b",
   "metadata": {},
   "outputs": [],
   "source": [
    "# Initial imports\n",
    "import os\n",
    "import pandas as pd\n",
    "import matplotlib.pyplot as plt\n",
    "from pathlib import Path\n",
    "%matplotlib inline"
   ]
  },
  {
   "cell_type": "code",
   "execution_count": 3,
   "id": "eafb0808-f9d0-4628-982a-b70cbb0aa350",
   "metadata": {},
   "outputs": [],
   "source": [
    "# Reading crypto data\n",
    "ada_path = Path(\"crypto_data/ADA.csv\")\n",
    "btc_path = Path(\"crypto_data/BTC.csv\")\n",
    "dog_path = Path(\"crypto_data/DOG.csv\")\n",
    "eth_path = Path(\"crypto_data/ETH.csv\")\n",
    "xrp_path = Path(\"crypto_data/XRP.csv\")\n",
    "\n",
    "ada = pd.read_csv(ada_path, index_col='Date', parse_dates=True, infer_datetime_format=True)\n",
    "btc = pd.read_csv(btc_path, index_col='Date', parse_dates=True, infer_datetime_format=True)\n",
    "dog = pd.read_csv(dog_path, index_col='Date', parse_dates=True, infer_datetime_format=True)\n",
    "eth = pd.read_csv(eth_path, index_col='Date', parse_dates=True, infer_datetime_format=True)\n",
    "xrp = pd.read_csv(xrp_path, index_col='Date', parse_dates=True, infer_datetime_format=True)\n",
    "\n",
    "btc_close = btc[\"Close\"]\n",
    "xrp_close = xrp[\"Close\"]\n",
    "\n"
   ]
  },
  {
   "cell_type": "code",
   "execution_count": 4,
   "id": "5c69c013-354e-4dda-90da-73ee4083a235",
   "metadata": {},
   "outputs": [
    {
     "data": {
      "text/html": [
       "<div>\n",
       "<style scoped>\n",
       "    .dataframe tbody tr th:only-of-type {\n",
       "        vertical-align: middle;\n",
       "    }\n",
       "\n",
       "    .dataframe tbody tr th {\n",
       "        vertical-align: top;\n",
       "    }\n",
       "\n",
       "    .dataframe thead th {\n",
       "        text-align: right;\n",
       "    }\n",
       "</style>\n",
       "<table border=\"1\" class=\"dataframe\">\n",
       "  <thead>\n",
       "    <tr style=\"text-align: right;\">\n",
       "      <th></th>\n",
       "      <th>ADA</th>\n",
       "      <th>BTC</th>\n",
       "      <th>DOG</th>\n",
       "      <th>ETH</th>\n",
       "      <th>XRP</th>\n",
       "    </tr>\n",
       "    <tr>\n",
       "      <th>Date</th>\n",
       "      <th></th>\n",
       "      <th></th>\n",
       "      <th></th>\n",
       "      <th></th>\n",
       "      <th></th>\n",
       "    </tr>\n",
       "  </thead>\n",
       "  <tbody>\n",
       "    <tr>\n",
       "      <th>2019-11-04</th>\n",
       "      <td>3.56</td>\n",
       "      <td>9412.612305</td>\n",
       "      <td>51.48</td>\n",
       "      <td>19.70</td>\n",
       "      <td>0.299937</td>\n",
       "    </tr>\n",
       "    <tr>\n",
       "      <th>2019-11-14</th>\n",
       "      <td>4.00</td>\n",
       "      <td>8708.094727</td>\n",
       "      <td>50.82</td>\n",
       "      <td>18.93</td>\n",
       "      <td>0.270391</td>\n",
       "    </tr>\n",
       "    <tr>\n",
       "      <th>2019-11-20</th>\n",
       "      <td>4.45</td>\n",
       "      <td>8027.268066</td>\n",
       "      <td>50.74</td>\n",
       "      <td>18.26</td>\n",
       "      <td>0.251364</td>\n",
       "    </tr>\n",
       "    <tr>\n",
       "      <th>2019-11-29</th>\n",
       "      <td>4.45</td>\n",
       "      <td>7761.243652</td>\n",
       "      <td>50.24</td>\n",
       "      <td>17.88</td>\n",
       "      <td>0.230217</td>\n",
       "    </tr>\n",
       "    <tr>\n",
       "      <th>2019-12-06</th>\n",
       "      <td>4.45</td>\n",
       "      <td>7546.996582</td>\n",
       "      <td>50.31</td>\n",
       "      <td>17.37</td>\n",
       "      <td>0.225505</td>\n",
       "    </tr>\n",
       "  </tbody>\n",
       "</table>\n",
       "</div>"
      ],
      "text/plain": [
       "             ADA          BTC    DOG    ETH       XRP\n",
       "Date                                                 \n",
       "2019-11-04  3.56  9412.612305  51.48  19.70  0.299937\n",
       "2019-11-14  4.00  8708.094727  50.82  18.93  0.270391\n",
       "2019-11-20  4.45  8027.268066  50.74  18.26  0.251364\n",
       "2019-11-29  4.45  7761.243652  50.24  17.88  0.230217\n",
       "2019-12-06  4.45  7546.996582  50.31  17.37  0.225505"
      ]
     },
     "execution_count": 4,
     "metadata": {},
     "output_type": "execute_result"
    }
   ],
   "source": [
    "# Joining the data\n",
    "crypto = pd.concat([ada, btc_close, dog, eth, xrp_close], axis = \"columns\", join = \"inner\")\n",
    "\n",
    "crypto.columns = [\"ADA\", \"BTC\", \"DOG\", \"ETH\", \"XRP\"]\n",
    "crypto.head()"
   ]
  },
  {
   "cell_type": "code",
   "execution_count": null,
   "id": "9040eec3-6fa4-4a86-9736-296b760a0b08",
   "metadata": {},
   "outputs": [],
   "source": []
  }
 ],
 "metadata": {
  "kernelspec": {
   "display_name": "Python [conda env:pyvizenv] *",
   "language": "python",
   "name": "conda-env-pyvizenv-py"
  },
  "language_info": {
   "codemirror_mode": {
    "name": "ipython",
    "version": 3
   },
   "file_extension": ".py",
   "mimetype": "text/x-python",
   "name": "python",
   "nbconvert_exporter": "python",
   "pygments_lexer": "ipython3",
   "version": "3.7.9"
  }
 },
 "nbformat": 4,
 "nbformat_minor": 5
}
