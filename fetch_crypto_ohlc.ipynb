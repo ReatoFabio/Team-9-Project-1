{
 "cells": [
  {
   "cell_type": "code",
   "execution_count": 13,
   "metadata": {},
   "outputs": [],
   "source": [
    "# Import Required Packages\n",
    "import os\n",
    "import requests\n",
    "from dotenv import load_dotenv\n",
    "import json\n",
    "import pandas as pd\n",
    "import matplotlib.pyplot as plt\n",
    "%matplotlib inline"
   ]
  },
  {
   "cell_type": "code",
   "execution_count": 14,
   "metadata": {},
   "outputs": [
    {
     "data": {
      "text/plain": [
       "True"
      ]
     },
     "execution_count": 14,
     "metadata": {},
     "output_type": "execute_result"
    }
   ],
   "source": [
    "# Load Environment Variables\n",
    "load_dotenv(\"../WBF.env\")"
   ]
  },
  {
   "cell_type": "code",
   "execution_count": 15,
   "metadata": {},
   "outputs": [],
   "source": [
    "# Fetch API Key from Environment Variables\n",
    "api_key = os.getenv('alpha_api_key')"
   ]
  },
  {
   "cell_type": "code",
   "execution_count": 16,
   "metadata": {},
   "outputs": [],
   "source": [
    "# Request Data From API\n",
    "btc_url = \"https://www.alphavantage.co/query?function=DIGITAL_CURRENCY_DAILY&symbol=BTC&market=USD&apikey=\" + api_key\n",
    "btc_data = requests.get(btc_url).json()\n",
    "\n",
    "eth_url = \"https://www.alphavantage.co/query?function=DIGITAL_CURRENCY_DAILY&symbol=ETH&market=USD&apikey=\" + api_key\n",
    "eth_data = requests.get(eth_url).json()\n",
    "\n",
    "ltc_url = \"https://www.alphavantage.co/query?function=DIGITAL_CURRENCY_DAILY&symbol=LTC&market=USD&apikey=\" + api_key\n",
    "ltc_data = requests.get(ltc_url).json()\n",
    "\n",
    "link_url = \"https://www.alphavantage.co/query?function=DIGITAL_CURRENCY_DAILY&symbol=LINK&market=USD&apikey=\" + api_key\n",
    "link_data = requests.get(link_url).json()\n",
    "\n",
    "doge_url = \"https://www.alphavantage.co/query?function=DIGITAL_CURRENCY_DAILY&symbol=DOGE&market=USD&apikey=\" + api_key\n",
    "doge_data = requests.get(doge_url).json()"
   ]
  },
  {
   "cell_type": "code",
   "execution_count": 18,
   "metadata": {},
   "outputs": [
    {
     "ename": "KeyError",
     "evalue": "'Time Series (Digital Currency Daily)'",
     "output_type": "error",
     "traceback": [
      "\u001b[0;31m---------------------------------------------------------------------------\u001b[0m",
      "\u001b[0;31mKeyError\u001b[0m                                  Traceback (most recent call last)",
      "\u001b[0;32m<ipython-input-18-dbacdf1a3f55>\u001b[0m in \u001b[0;36m<module>\u001b[0;34m\u001b[0m\n\u001b[1;32m      1\u001b[0m \u001b[0;31m# Create DataFrames\u001b[0m\u001b[0;34m\u001b[0m\u001b[0;34m\u001b[0m\u001b[0;34m\u001b[0m\u001b[0m\n\u001b[0;32m----> 2\u001b[0;31m \u001b[0mbtc_df\u001b[0m \u001b[0;34m=\u001b[0m \u001b[0mpd\u001b[0m\u001b[0;34m.\u001b[0m\u001b[0mDataFrame\u001b[0m\u001b[0;34m.\u001b[0m\u001b[0mfrom_dict\u001b[0m\u001b[0;34m(\u001b[0m\u001b[0mbtc_data\u001b[0m\u001b[0;34m[\u001b[0m\u001b[0;34m'Time Series (Digital Currency Daily)'\u001b[0m\u001b[0;34m]\u001b[0m\u001b[0;34m,\u001b[0m \u001b[0morient\u001b[0m\u001b[0;34m=\u001b[0m\u001b[0;34m'index'\u001b[0m\u001b[0;34m)\u001b[0m\u001b[0;34m\u001b[0m\u001b[0;34m\u001b[0m\u001b[0m\n\u001b[0m\u001b[1;32m      3\u001b[0m \u001b[0meth_df\u001b[0m \u001b[0;34m=\u001b[0m \u001b[0mpd\u001b[0m\u001b[0;34m.\u001b[0m\u001b[0mDataFrame\u001b[0m\u001b[0;34m.\u001b[0m\u001b[0mfrom_dict\u001b[0m\u001b[0;34m(\u001b[0m\u001b[0meth_data\u001b[0m\u001b[0;34m[\u001b[0m\u001b[0;34m'Time Series (Digital Currency Daily)'\u001b[0m\u001b[0;34m]\u001b[0m\u001b[0;34m,\u001b[0m \u001b[0morient\u001b[0m\u001b[0;34m=\u001b[0m\u001b[0;34m'index'\u001b[0m\u001b[0;34m)\u001b[0m\u001b[0;34m\u001b[0m\u001b[0;34m\u001b[0m\u001b[0m\n\u001b[1;32m      4\u001b[0m \u001b[0mltc_df\u001b[0m \u001b[0;34m=\u001b[0m \u001b[0mpd\u001b[0m\u001b[0;34m.\u001b[0m\u001b[0mDataFrame\u001b[0m\u001b[0;34m.\u001b[0m\u001b[0mfrom_dict\u001b[0m\u001b[0;34m(\u001b[0m\u001b[0mltc_data\u001b[0m\u001b[0;34m[\u001b[0m\u001b[0;34m'Time Series (Digital Currency Daily)'\u001b[0m\u001b[0;34m]\u001b[0m\u001b[0;34m,\u001b[0m \u001b[0morient\u001b[0m\u001b[0;34m=\u001b[0m\u001b[0;34m'index'\u001b[0m\u001b[0;34m)\u001b[0m\u001b[0;34m\u001b[0m\u001b[0;34m\u001b[0m\u001b[0m\n\u001b[1;32m      5\u001b[0m \u001b[0mlink_df\u001b[0m \u001b[0;34m=\u001b[0m \u001b[0mpd\u001b[0m\u001b[0;34m.\u001b[0m\u001b[0mDataFrame\u001b[0m\u001b[0;34m.\u001b[0m\u001b[0mfrom_dict\u001b[0m\u001b[0;34m(\u001b[0m\u001b[0mlink_data\u001b[0m\u001b[0;34m[\u001b[0m\u001b[0;34m'Time Series (Digital Currency Daily)'\u001b[0m\u001b[0;34m]\u001b[0m\u001b[0;34m,\u001b[0m \u001b[0morient\u001b[0m\u001b[0;34m=\u001b[0m\u001b[0;34m'index'\u001b[0m\u001b[0;34m)\u001b[0m\u001b[0;34m\u001b[0m\u001b[0;34m\u001b[0m\u001b[0m\n",
      "\u001b[0;31mKeyError\u001b[0m: 'Time Series (Digital Currency Daily)'"
     ]
    }
   ],
   "source": [
    "# Create DataFrames\n",
    "btc_df = pd.DataFrame.from_dict(btc_data['Time Series (Digital Currency Daily)'], orient='index')\n",
    "eth_df = pd.DataFrame.from_dict(eth_data['Time Series (Digital Currency Daily)'], orient='index')\n",
    "ltc_df = pd.DataFrame.from_dict(ltc_data['Time Series (Digital Currency Daily)'], orient='index')\n",
    "link_df = pd.DataFrame.from_dict(link_data['Time Series (Digital Currency Daily)'], orient='index')\n",
    "doge_df = pd.DataFrame.from_dict(doge_data['Time Series (Digital Currency Daily)'], orient='index')"
   ]
  },
  {
   "cell_type": "code",
   "execution_count": null,
   "metadata": {},
   "outputs": [],
   "source": [
    "# Clean DataFrames\n",
    "btc_df.dropna(inplace=True)\n",
    "btc_df.rename(columns={\n",
    "    '4a. close (USD)':'BTC close',\n",
    "}, inplace=True)\n",
    "btc_df = btc_df[['BTC close']]\n",
    "btc_df.sort_index(inplace=True)\n",
    "\n",
    "eth_df.dropna(inplace=True)\n",
    "eth_df.rename(columns={\n",
    "    '4a. close (USD)':'ETH close',\n",
    "}, inplace=True)\n",
    "eth_df = eth_df[['ETH close']]\n",
    "eth_df.sort_index(inplace=True)\n",
    "\n",
    "ltc_df.dropna(inplace=True)\n",
    "ltc_df.rename(columns={\n",
    "    '4a. close (USD)':'LTC close',\n",
    "}, inplace=True)\n",
    "ltc_df = ltc_df[['LTC close']]\n",
    "ltc_df.sort_index(inplace=True)\n",
    "\n",
    "link_df.dropna(inplace=True)\n",
    "link_df.rename(columns={\n",
    "    '4a. close (USD)':'LINK close',\n",
    "}, inplace=True)\n",
    "link_df = link_df[['LINK close']]\n",
    "link_df.sort_index(inplace=True)\n",
    "\n",
    "doge_df.dropna(inplace=True)\n",
    "doge_df.rename(columns={\n",
    "    '4a. close (USD)':'DOGE close',\n",
    "}, inplace=True)\n",
    "doge_df = doge_df[['DOGE close']]\n",
    "doge_df.sort_index(inplace=True)"
   ]
  },
  {
   "cell_type": "code",
   "execution_count": null,
   "metadata": {},
   "outputs": [],
   "source": [
    "# Concatenate DataFrames\n",
    "crypto_ohlc = pd.concat([btc_df, eth_df, ltc_df, link_df, doge_df], axis='columns', join='inner')\n",
    "crypto_ohlc[\"BTC close\"]= crypto_ohlc[\"BTC close\"].astype(float)\n",
    "crypto_ohlc[\"ETH close\"]= crypto_ohlc[\"ETH close\"].astype(float)\n",
    "crypto_ohlc[\"LTC close\"]= crypto_ohlc[\"LTC close\"].astype(float)\n",
    "crypto_ohlc[\"LINK close\"]= crypto_ohlc[\"LINK close\"].astype(float)\n",
    "crypto_ohlc[\"DOGE close\"]= crypto_ohlc[\"DOGE close\"].astype(float)"
   ]
  },
  {
   "cell_type": "code",
   "execution_count": null,
   "metadata": {},
   "outputs": [],
   "source": [
    "crypto_ohlc = crypto_ohlc['2019-11-30':'2021-04-30']\n",
    "crypto_ohlc"
   ]
  },
  {
   "cell_type": "code",
   "execution_count": null,
   "metadata": {},
   "outputs": [],
   "source": [
    "crypto_ohlc[\"MovAvg20dBTC\"] = crypto_ohlc[\"BTC close\"].rolling(window=20).mean()\n",
    "crypto_ohlc[\"MovAvg20dETH\"] = crypto_ohlc[\"ETH close\"].rolling(window=20).mean()\n",
    "crypto_ohlc[\"MovAvg20dLTC\"] = crypto_ohlc[\"LTC close\"].rolling(window=20).mean()\n",
    "crypto_ohlc[\"MovAvg20dLINK\"] = crypto_ohlc[\"LINK close\"].rolling(window=20).mean()\n",
    "crypto_ohlc[\"MovAvg20dDOGE\"] = crypto_ohlc[\"DOGE close\"].rolling(window=20).mean()"
   ]
  },
  {
   "cell_type": "code",
   "execution_count": null,
   "metadata": {},
   "outputs": [],
   "source": [
    "crypto_ohlc[\"STDEV20dBTC\"] = crypto_ohlc[\"BTC close\"].rolling(window=20).std()\n",
    "crypto_ohlc[\"STDEV20dETH\"] = crypto_ohlc[\"ETH close\"].rolling(window=20).std()\n",
    "crypto_ohlc[\"STDEV20dLTC\"] = crypto_ohlc[\"LTC close\"].rolling(window=20).std()\n",
    "crypto_ohlc[\"STDEV20dLINK\"] = crypto_ohlc[\"LINK close\"].rolling(window=20).std()\n",
    "crypto_ohlc[\"STDEV20dDOGE\"] = crypto_ohlc[\"DOGE close\"].rolling(window=20).std()"
   ]
  },
  {
   "cell_type": "code",
   "execution_count": null,
   "metadata": {},
   "outputs": [],
   "source": [
    "# Creating Upper Band column s.t. upper band = moving avg + (SD*2)\n",
    "crypto_ohlc[\"UpperBandBTC\"] = crypto_ohlc[\"MovAvg20dBTC\"] + (crypto_ohlc[\"STDEV20dBTC\"] * 2)\n",
    "\n",
    "# Creating Lower Band column s.t. lower band = moving avg - (SD*2)\n",
    "crypto_ohlc[\"LowerBandBTC\"] = crypto_ohlc[\"MovAvg20dBTC\"] - (crypto_ohlc[\"STDEV20dBTC\"] * 2)\n",
    "\n",
    "# Plotting\n",
    "crypto_ohlc[['BTC close',\"MovAvg20dBTC\",\"UpperBandBTC\",\"LowerBandBTC\"]].plot(figsize=(15,6))\n",
    "plt.grid(True)\n",
    "plt.title(\"BTC Bollinger Bands\")\n",
    "plt.axis(\"tight\")\n",
    "plt.ylabel(\"BTC close\")"
   ]
  },
  {
   "cell_type": "code",
   "execution_count": null,
   "metadata": {},
   "outputs": [],
   "source": [
    "# Creating Upper Band column s.t. upper band = moving avg + (SD*2)\n",
    "crypto_ohlc[\"UpperBandETH\"] = crypto_ohlc[\"MovAvg20dETH\"] + (crypto_ohlc[\"STDEV20dETH\"] * 2)\n",
    "\n",
    "# Creating Lower Band column s.t. lower band = moving avg - (SD*2)\n",
    "crypto_ohlc[\"LowerBandETH\"] = crypto_ohlc[\"MovAvg20dETH\"] - (crypto_ohlc[\"STDEV20dETH\"] * 2)\n",
    "\n",
    "# Plotting\n",
    "crypto_ohlc[['ETH close',\"MovAvg20dETH\",\"UpperBandETH\",\"LowerBandETH\"]].plot(figsize=(15,6))\n",
    "plt.grid(True)\n",
    "plt.title(\"ETH Bollinger Bands\")\n",
    "plt.axis(\"tight\")\n",
    "plt.ylabel(\"ETH close\")"
   ]
  },
  {
   "cell_type": "code",
   "execution_count": null,
   "metadata": {},
   "outputs": [],
   "source": [
    "# Creating Upper Band column s.t. upper band = moving avg + (SD*2)\n",
    "crypto_ohlc[\"UpperBandLTC\"] = crypto_ohlc[\"MovAvg20dLTC\"] + (crypto_ohlc[\"STDEV20dLTC\"] * 2)\n",
    "\n",
    "# Creating Lower Band column s.t. lower band = moving avg - (SD*2)\n",
    "crypto_ohlc[\"LowerBandLTC\"] = crypto_ohlc[\"MovAvg20dLTC\"] - (crypto_ohlc[\"STDEV20dLTC\"] * 2)\n",
    "\n",
    "# Plotting\n",
    "crypto_ohlc[['LTC close',\"MovAvg20dLTC\",\"UpperBandLTC\",\"LowerBandLTC\"]].plot(figsize=(15,6))\n",
    "plt.grid(True)\n",
    "plt.title(\"LTC Bollinger Bands\")\n",
    "plt.axis(\"tight\")\n",
    "plt.ylabel(\"LTC close\")"
   ]
  },
  {
   "cell_type": "code",
   "execution_count": null,
   "metadata": {},
   "outputs": [],
   "source": [
    "# Creating Upper Band column s.t. upper band = moving avg + (SD*2)\n",
    "crypto_ohlc[\"UpperBandLINK\"] = crypto_ohlc[\"MovAvg20dLINK\"] + (crypto_ohlc[\"STDEV20dLINK\"] * 2)\n",
    "\n",
    "# Creating Lower Band column s.t. lower band = moving avg - (SD*2)\n",
    "crypto_ohlc[\"LowerBandLINK\"] = crypto_ohlc[\"MovAvg20dLINK\"] - (crypto_ohlc[\"STDEV20dLINK\"] * 2)\n",
    "\n",
    "# Plotting\n",
    "crypto_ohlc[['LINK close',\"MovAvg20dLINK\",\"UpperBandLINK\",\"LowerBandLINK\"]].plot(figsize=(15,6))\n",
    "plt.grid(True)\n",
    "plt.title(\"LINK Bollinger Bands\")\n",
    "plt.axis(\"tight\")\n",
    "plt.ylabel(\"LINK close\")"
   ]
  },
  {
   "cell_type": "code",
   "execution_count": null,
   "metadata": {},
   "outputs": [],
   "source": [
    "# Creating Upper Band column s.t. upper band = moving avg + (SD*2)\n",
    "crypto_ohlc[\"UpperBandDOGE\"] = crypto_ohlc[\"MovAvg20dDOGE\"] + (crypto_ohlc[\"STDEV20dDOGE\"] * 2)\n",
    "\n",
    "# Creating Lower Band column s.t. lower band = moving avg - (SD*2)\n",
    "crypto_ohlc[\"LowerBandDOGE\"] = crypto_ohlc[\"MovAvg20dDOGE\"] - (crypto_ohlc[\"STDEV20dDOGE\"] * 2)\n",
    "\n",
    "# Plotting\n",
    "crypto_ohlc[['DOGE close',\"MovAvg20dDOGE\",\"UpperBandDOGE\",\"LowerBandDOGE\"]].plot(figsize=(15,6))\n",
    "plt.grid(True)\n",
    "plt.title(\"DOGE Bollinger Bands\")\n",
    "plt.axis(\"tight\")\n",
    "plt.ylabel(\"DOGE close\")"
   ]
  },
  {
   "cell_type": "code",
   "execution_count": null,
   "metadata": {},
   "outputs": [],
   "source": []
  }
 ],
 "metadata": {
  "kernelspec": {
   "display_name": "Python 3",
   "language": "python",
   "name": "python3"
  },
  "language_info": {
   "codemirror_mode": {
    "name": "ipython",
    "version": 3
   },
   "file_extension": ".py",
   "mimetype": "text/x-python",
   "name": "python",
   "nbconvert_exporter": "python",
   "pygments_lexer": "ipython3",
   "version": "3.7.9"
  }
 },
 "nbformat": 4,
 "nbformat_minor": 4
}
