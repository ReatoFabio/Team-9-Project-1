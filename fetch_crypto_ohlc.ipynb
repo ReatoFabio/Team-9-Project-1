{
 "cells": [
  {
   "cell_type": "code",
   "execution_count": null,
   "metadata": {},
   "outputs": [],
   "source": [
    "# Import Required Packages\n",
    "import os\n",
    "import requests\n",
    "from dotenv import load_dotenv\n",
    "import json\n",
    "import pandas as pd"
   ]
  },
  {
   "cell_type": "code",
   "execution_count": null,
   "metadata": {},
   "outputs": [],
   "source": [
    "# Load Environment Variables\n",
    "load_dotenv('../../api_keys.env')"
   ]
  },
  {
   "cell_type": "code",
   "execution_count": null,
   "metadata": {},
   "outputs": [],
   "source": [
    "# Fetch API Key from Environment Variables\n",
    "api_key = os.getenv('Alpha_Vantage_Key')\n",
    "type(api_key)"
   ]
  },
  {
   "cell_type": "code",
   "execution_count": null,
   "metadata": {},
   "outputs": [],
   "source": [
    "# Request Data From API\n",
    "btc_url = \"https://www.alphavantage.co/query?function=DIGITAL_CURRENCY_DAILY&symbol=BTC&market=USD&apikey=\" + api_key\n",
    "btc_data = requests.get(btc_url).json()\n",
    "\n",
    "eth_url = \"https://www.alphavantage.co/query?function=DIGITAL_CURRENCY_DAILY&symbol=ETH&market=USD&apikey=\" + api_key\n",
    "eth_data = requests.get(eth_url).json()\n",
    "\n",
    "ltc_url = \"https://www.alphavantage.co/query?function=DIGITAL_CURRENCY_DAILY&symbol=LTC&market=USD&apikey=\" + api_key\n",
    "ltc_data = requests.get(ltc_url).json()\n",
    "\n",
    "link_url = \"https://www.alphavantage.co/query?function=DIGITAL_CURRENCY_DAILY&symbol=LINK&market=USD&apikey=\" + api_key\n",
    "link_data = requests.get(link_url).json()\n",
    "\n",
    "doge_url = \"https://www.alphavantage.co/query?function=DIGITAL_CURRENCY_DAILY&symbol=DOGE&market=USD&apikey=\" + api_key\n",
    "doge_data = requests.get(doge_url).json()"
   ]
  },
  {
   "cell_type": "code",
   "execution_count": null,
   "metadata": {},
   "outputs": [],
   "source": [
    "# Create DataFrames\n",
    "btc_df = pd.DataFrame.from_dict(btc_data['Time Series (Digital Currency Daily)'], orient='index')\n",
    "eth_df = pd.DataFrame.from_dict(eth_data['Time Series (Digital Currency Daily)'], orient='index')\n",
    "ltc_df = pd.DataFrame.from_dict(ltc_data['Time Series (Digital Currency Daily)'], orient='index')\n",
    "link_df = pd.DataFrame.from_dict(link_data['Time Series (Digital Currency Daily)'], orient='index')\n",
    "doge_df = pd.DataFrame.from_dict(doge_data['Time Series (Digital Currency Daily)'], orient='index')"
   ]
  },
  {
   "cell_type": "code",
   "execution_count": null,
   "metadata": {},
   "outputs": [],
   "source": [
    "# Clean DataFrames\n",
    "btc_df.dropna(inplace=True)\n",
    "btc_df.rename(columns={\n",
    "    '1a. open (USD)':'BTC Open',\n",
    "    '2a. high (USD)':'BTC High',\n",
    "    '3a. low (USD)':'BTC Low',\n",
    "    '4a. close (USD)':'BTC Close',\n",
    "}, inplace=True)\n",
    "btc_df = btc_df[['BTC Open','BTC High','BTC Low','BTC Close']]\n",
    "btc_df.sort_index(inplace=True)\n",
    "\n",
    "eth_df.dropna(inplace=True)\n",
    "eth_df.rename(columns={\n",
    "    '1a. open (USD)':'ETH Open',\n",
    "    '2a. high (USD)':'ETH High',\n",
    "    '3a. low (USD)':'ETH Low',\n",
    "    '4a. close (USD)':'ETH Close',\n",
    "}, inplace=True)\n",
    "eth_df = eth_df[['ETH Open','ETH High','ETH Low','ETH Close']]\n",
    "eth_df.sort_index(inplace=True)\n",
    "\n",
    "ltc_df.dropna(inplace=True)\n",
    "ltc_df.rename(columns={\n",
    "    '1a. open (USD)':'LTC Open',\n",
    "    '2a. high (USD)':'LTC High',\n",
    "    '3a. low (USD)':'LTC Low',\n",
    "    '4a. close (USD)':'LTC Close',\n",
    "}, inplace=True)\n",
    "ltc_df = ltc_df[['LTC Open','LTC High','LTC Low','LTC Close']]\n",
    "ltc_df.sort_index(inplace=True)\n",
    "\n",
    "link_df.dropna(inplace=True)\n",
    "link_df.rename(columns={\n",
    "    '1a. open (USD)':'LINK Open',\n",
    "    '2a. high (USD)':'LINK High',\n",
    "    '3a. low (USD)':'LINK Low',\n",
    "    '4a. close (USD)':'LINK Close',\n",
    "}, inplace=True)\n",
    "link_df = link_df[['LINK Open','LINK High','LINK Low','LINK Close']]\n",
    "link_df.sort_index(inplace=True)\n",
    "\n",
    "doge_df.dropna(inplace=True)\n",
    "doge_df.rename(columns={\n",
    "    '1a. open (USD)':'DOGE Open',\n",
    "    '2a. high (USD)':'DOGE High',\n",
    "    '3a. low (USD)':'DOGE Low',\n",
    "    '4a. close (USD)':'DOGE Close',\n",
    "}, inplace=True)\n",
    "doge_df = doge_df[['DOGE Open','DOGE High','DOGE Low','DOGE Close']]\n",
    "doge_df.sort_index(inplace=True)"
   ]
  },
  {
   "cell_type": "code",
   "execution_count": null,
   "metadata": {},
   "outputs": [],
   "source": [
    "# Concatenate DataFrames\n",
    "crypto_ohlc = pd.concat([btc_df, eth_df, ltc_df, link_df, doge_df], axis='columns', join='inner')"
   ]
  },
  {
   "cell_type": "code",
   "execution_count": null,
   "metadata": {},
   "outputs": [],
   "source": [
    "crypto_ohlc"
   ]
  }
 ],
 "metadata": {
  "kernelspec": {
   "display_name": "Python 3",
   "language": "python",
   "name": "python3"
  },
  "language_info": {
   "codemirror_mode": {
    "name": "ipython",
    "version": 3
   },
   "file_extension": ".py",
   "mimetype": "text/x-python",
   "name": "python",
   "nbconvert_exporter": "python",
   "pygments_lexer": "ipython3",
   "version": "3.7.9"
  }
 },
 "nbformat": 4,
 "nbformat_minor": 4
}
