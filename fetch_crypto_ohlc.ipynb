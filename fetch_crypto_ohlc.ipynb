{
 "cells": [
  {
   "cell_type": "code",
   "execution_count": 1,
   "metadata": {},
   "outputs": [],
   "source": [
    "# Import Required Packages\n",
    "import os\n",
    "import requests\n",
    "from dotenv import load_dotenv\n",
    "import json\n",
    "import pandas as pd"
   ]
  },
  {
   "cell_type": "code",
   "execution_count": 2,
   "metadata": {},
   "outputs": [
    {
     "data": {
      "text/plain": [
       "True"
      ]
     },
     "execution_count": 2,
     "metadata": {},
     "output_type": "execute_result"
    }
   ],
   "source": [
    "# Load Environment Variables\n",
    "load_dotenv('../../api_keys.env')"
   ]
  },
  {
   "cell_type": "code",
   "execution_count": 3,
   "metadata": {},
   "outputs": [
    {
     "data": {
      "text/plain": [
       "str"
      ]
     },
     "execution_count": 3,
     "metadata": {},
     "output_type": "execute_result"
    }
   ],
   "source": [
    "# Fetch API Key from Environment Variables\n",
    "api_key = os.getenv('Alpha_Vantage_Key')\n",
    "type(api_key)"
   ]
  },
  {
   "cell_type": "code",
   "execution_count": 4,
   "metadata": {},
   "outputs": [],
   "source": [
    "# Request Data From API\n",
    "btc_url = \"https://www.alphavantage.co/query?function=DIGITAL_CURRENCY_DAILY&symbol=BTC&market=USD&apikey=\" + api_key\n",
    "btc_data = requests.get(btc_url).json()\n",
    "\n",
    "eth_url = \"https://www.alphavantage.co/query?function=DIGITAL_CURRENCY_DAILY&symbol=ETH&market=USD&apikey=\" + api_key\n",
    "eth_data = requests.get(eth_url).json()\n",
    "\n",
    "ltc_url = \"https://www.alphavantage.co/query?function=DIGITAL_CURRENCY_DAILY&symbol=LTC&market=USD&apikey=\" + api_key\n",
    "ltc_data = requests.get(ltc_url).json()\n",
    "\n",
    "link_url = \"https://www.alphavantage.co/query?function=DIGITAL_CURRENCY_DAILY&symbol=LINK&market=USD&apikey=\" + api_key\n",
    "link_data = requests.get(link_url).json()\n",
    "\n",
    "doge_url = \"https://www.alphavantage.co/query?function=DIGITAL_CURRENCY_DAILY&symbol=DOGE&market=USD&apikey=\" + api_key\n",
    "doge_data = requests.get(doge_url).json()"
   ]
  },
  {
   "cell_type": "code",
   "execution_count": 10,
   "metadata": {},
   "outputs": [
    {
     "ename": "KeyError",
     "evalue": "'Time Series (Digital Currency Daily)'",
     "output_type": "error",
     "traceback": [
      "\u001b[1;31m---------------------------------------------------------------------------\u001b[0m",
      "\u001b[1;31mKeyError\u001b[0m                                  Traceback (most recent call last)",
      "\u001b[1;32m<ipython-input-10-dbacdf1a3f55>\u001b[0m in \u001b[0;36m<module>\u001b[1;34m\u001b[0m\n\u001b[0;32m      1\u001b[0m \u001b[1;31m# Create DataFrames\u001b[0m\u001b[1;33m\u001b[0m\u001b[1;33m\u001b[0m\u001b[1;33m\u001b[0m\u001b[0m\n\u001b[1;32m----> 2\u001b[1;33m \u001b[0mbtc_df\u001b[0m \u001b[1;33m=\u001b[0m \u001b[0mpd\u001b[0m\u001b[1;33m.\u001b[0m\u001b[0mDataFrame\u001b[0m\u001b[1;33m.\u001b[0m\u001b[0mfrom_dict\u001b[0m\u001b[1;33m(\u001b[0m\u001b[0mbtc_data\u001b[0m\u001b[1;33m[\u001b[0m\u001b[1;34m'Time Series (Digital Currency Daily)'\u001b[0m\u001b[1;33m]\u001b[0m\u001b[1;33m,\u001b[0m \u001b[0morient\u001b[0m\u001b[1;33m=\u001b[0m\u001b[1;34m'index'\u001b[0m\u001b[1;33m)\u001b[0m\u001b[1;33m\u001b[0m\u001b[1;33m\u001b[0m\u001b[0m\n\u001b[0m\u001b[0;32m      3\u001b[0m \u001b[0meth_df\u001b[0m \u001b[1;33m=\u001b[0m \u001b[0mpd\u001b[0m\u001b[1;33m.\u001b[0m\u001b[0mDataFrame\u001b[0m\u001b[1;33m.\u001b[0m\u001b[0mfrom_dict\u001b[0m\u001b[1;33m(\u001b[0m\u001b[0meth_data\u001b[0m\u001b[1;33m[\u001b[0m\u001b[1;34m'Time Series (Digital Currency Daily)'\u001b[0m\u001b[1;33m]\u001b[0m\u001b[1;33m,\u001b[0m \u001b[0morient\u001b[0m\u001b[1;33m=\u001b[0m\u001b[1;34m'index'\u001b[0m\u001b[1;33m)\u001b[0m\u001b[1;33m\u001b[0m\u001b[1;33m\u001b[0m\u001b[0m\n\u001b[0;32m      4\u001b[0m \u001b[0mltc_df\u001b[0m \u001b[1;33m=\u001b[0m \u001b[0mpd\u001b[0m\u001b[1;33m.\u001b[0m\u001b[0mDataFrame\u001b[0m\u001b[1;33m.\u001b[0m\u001b[0mfrom_dict\u001b[0m\u001b[1;33m(\u001b[0m\u001b[0mltc_data\u001b[0m\u001b[1;33m[\u001b[0m\u001b[1;34m'Time Series (Digital Currency Daily)'\u001b[0m\u001b[1;33m]\u001b[0m\u001b[1;33m,\u001b[0m \u001b[0morient\u001b[0m\u001b[1;33m=\u001b[0m\u001b[1;34m'index'\u001b[0m\u001b[1;33m)\u001b[0m\u001b[1;33m\u001b[0m\u001b[1;33m\u001b[0m\u001b[0m\n\u001b[0;32m      5\u001b[0m \u001b[0mlink_df\u001b[0m \u001b[1;33m=\u001b[0m \u001b[0mpd\u001b[0m\u001b[1;33m.\u001b[0m\u001b[0mDataFrame\u001b[0m\u001b[1;33m.\u001b[0m\u001b[0mfrom_dict\u001b[0m\u001b[1;33m(\u001b[0m\u001b[0mlink_data\u001b[0m\u001b[1;33m[\u001b[0m\u001b[1;34m'Time Series (Digital Currency Daily)'\u001b[0m\u001b[1;33m]\u001b[0m\u001b[1;33m,\u001b[0m \u001b[0morient\u001b[0m\u001b[1;33m=\u001b[0m\u001b[1;34m'index'\u001b[0m\u001b[1;33m)\u001b[0m\u001b[1;33m\u001b[0m\u001b[1;33m\u001b[0m\u001b[0m\n",
      "\u001b[1;31mKeyError\u001b[0m: 'Time Series (Digital Currency Daily)'"
     ]
    }
   ],
   "source": [
    "# Create DataFrames\n",
    "btc_df = pd.DataFrame.from_dict(btc_data['Time Series (Digital Currency Daily)'], orient='index')\n",
    "eth_df = pd.DataFrame.from_dict(eth_data['Time Series (Digital Currency Daily)'], orient='index')\n",
    "ltc_df = pd.DataFrame.from_dict(ltc_data['Time Series (Digital Currency Daily)'], orient='index')\n",
    "link_df = pd.DataFrame.from_dict(link_data['Time Series (Digital Currency Daily)'], orient='index')\n",
    "doge_df = pd.DataFrame.from_dict(doge_data['Time Series (Digital Currency Daily)'], orient='index')"
   ]
  },
  {
   "cell_type": "code",
   "execution_count": 6,
   "metadata": {},
   "outputs": [
    {
     "ename": "NameError",
     "evalue": "name 'btc_df' is not defined",
     "output_type": "error",
     "traceback": [
      "\u001b[1;31m---------------------------------------------------------------------------\u001b[0m",
      "\u001b[1;31mNameError\u001b[0m                                 Traceback (most recent call last)",
      "\u001b[1;32m<ipython-input-6-d6b8f9d7c753>\u001b[0m in \u001b[0;36m<module>\u001b[1;34m\u001b[0m\n\u001b[0;32m      1\u001b[0m \u001b[1;31m# Clean DataFrames\u001b[0m\u001b[1;33m\u001b[0m\u001b[1;33m\u001b[0m\u001b[1;33m\u001b[0m\u001b[0m\n\u001b[1;32m----> 2\u001b[1;33m \u001b[0mbtc_df\u001b[0m\u001b[1;33m.\u001b[0m\u001b[0mdropna\u001b[0m\u001b[1;33m(\u001b[0m\u001b[0minplace\u001b[0m\u001b[1;33m=\u001b[0m\u001b[1;32mTrue\u001b[0m\u001b[1;33m)\u001b[0m\u001b[1;33m\u001b[0m\u001b[1;33m\u001b[0m\u001b[0m\n\u001b[0m\u001b[0;32m      3\u001b[0m btc_df.rename(columns={\n\u001b[0;32m      4\u001b[0m     \u001b[1;34m'1a. open (USD)'\u001b[0m\u001b[1;33m:\u001b[0m\u001b[1;34m'BTC Open'\u001b[0m\u001b[1;33m,\u001b[0m\u001b[1;33m\u001b[0m\u001b[1;33m\u001b[0m\u001b[0m\n\u001b[0;32m      5\u001b[0m     \u001b[1;34m'2a. high (USD)'\u001b[0m\u001b[1;33m:\u001b[0m\u001b[1;34m'BTC High'\u001b[0m\u001b[1;33m,\u001b[0m\u001b[1;33m\u001b[0m\u001b[1;33m\u001b[0m\u001b[0m\n",
      "\u001b[1;31mNameError\u001b[0m: name 'btc_df' is not defined"
     ]
    }
   ],
   "source": [
    "# Clean DataFrames\n",
    "btc_df.dropna(inplace=True)\n",
    "btc_df.rename(columns={\n",
    "    '1a. open (USD)':'BTC Open',\n",
    "    '2a. high (USD)':'BTC High',\n",
    "    '3a. low (USD)':'BTC Low',\n",
    "    '4a. close (USD)':'BTC Close',\n",
    "}, inplace=True)\n",
    "btc_df = btc_df[['BTC Open','BTC High','BTC Low','BTC Close']]\n",
    "btc_df.sort_index(inplace=True)\n",
    "\n",
    "eth_df.dropna(inplace=True)\n",
    "eth_df.rename(columns={\n",
    "    '1a. open (USD)':'ETH Open',\n",
    "    '2a. high (USD)':'ETH High',\n",
    "    '3a. low (USD)':'ETH Low',\n",
    "    '4a. close (USD)':'ETH Close',\n",
    "}, inplace=True)\n",
    "eth_df = eth_df[['ETH Open','ETH High','ETH Low','ETH Close']]\n",
    "eth_df.sort_index(inplace=True)\n",
    "\n",
    "ltc_df.dropna(inplace=True)\n",
    "ltc_df.rename(columns={\n",
    "    '1a. open (USD)':'LTC Open',\n",
    "    '2a. high (USD)':'LTC High',\n",
    "    '3a. low (USD)':'LTC Low',\n",
    "    '4a. close (USD)':'LTC Close',\n",
    "}, inplace=True)\n",
    "ltc_df = ltc_df[['LTC Open','LTC High','LTC Low','LTC Close']]\n",
    "ltc_df.sort_index(inplace=True)\n",
    "\n",
    "link_df.dropna(inplace=True)\n",
    "link_df.rename(columns={\n",
    "    '1a. open (USD)':'LINK Open',\n",
    "    '2a. high (USD)':'LINK High',\n",
    "    '3a. low (USD)':'LINK Low',\n",
    "    '4a. close (USD)':'LINK Close',\n",
    "}, inplace=True)\n",
    "link_df = link_df[['LINK Open','LINK High','LINK Low','LINK Close']]\n",
    "link_df.sort_index(inplace=True)\n",
    "\n",
    "doge_df.dropna(inplace=True)\n",
    "doge_df.rename(columns={\n",
    "    '1a. open (USD)':'DOGE Open',\n",
    "    '2a. high (USD)':'DOGE High',\n",
    "    '3a. low (USD)':'DOGE Low',\n",
    "    '4a. close (USD)':'DOGE Close',\n",
    "}, inplace=True)\n",
    "doge_df = doge_df[['DOGE Open','DOGE High','DOGE Low','DOGE Close']]\n",
    "doge_df.sort_index(inplace=True)"
   ]
  },
  {
   "cell_type": "code",
   "execution_count": null,
   "metadata": {},
   "outputs": [],
   "source": [
    "# Concatenate DataFrames\n",
    "crypto_ohlc = pd.concat([btc_df, eth_df, ltc_df, link_df, doge_df], axis='columns', join='inner')"
   ]
  },
  {
   "cell_type": "code",
   "execution_count": null,
   "metadata": {},
   "outputs": [],
   "source": [
    "crypto_ohlc"
   ]
  }
 ],
 "metadata": {
  "kernelspec": {
   "display_name": "Python 3",
   "language": "python",
   "name": "python3"
  },
  "language_info": {
   "codemirror_mode": {
    "name": "ipython",
    "version": 3
   },
   "file_extension": ".py",
   "mimetype": "text/x-python",
   "name": "python",
   "nbconvert_exporter": "python",
   "pygments_lexer": "ipython3",
   "version": "3.7.9"
  }
 },
 "nbformat": 4,
 "nbformat_minor": 4
}
