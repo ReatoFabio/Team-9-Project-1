{
 "cells": [
  {
   "cell_type": "code",
   "execution_count": 1,
   "id": "08cec986-c7f3-4bc2-adfd-8f996e95ccc2",
   "metadata": {},
   "outputs": [],
   "source": [
    "# Initial imports\n",
    "import os\n",
    "import requests\n",
    "import pandas as pd\n",
    "from dotenv import load_dotenv\n",
    "import alpaca_trade_api as tradeapi\n",
    "\n",
    "%matplotlib inline"
   ]
  },
  {
   "cell_type": "code",
   "execution_count": 6,
   "id": "4adbbc4d-f048-490b-9958-a7bdf0172169",
   "metadata": {},
   "outputs": [
    {
     "data": {
      "text/plain": [
       "True"
      ]
     },
     "execution_count": 6,
     "metadata": {},
     "output_type": "execute_result"
    }
   ],
   "source": [
    "# Load .env environment variables\n",
    "load_dotenv(\"/Users/FinTech/PycharmProjects/Bootcamp/api_keys.env\")"
   ]
  },
  {
   "cell_type": "code",
   "execution_count": 7,
   "id": "ee3eefc1-1023-45f5-99fd-31aa80327bb8",
   "metadata": {},
   "outputs": [
    {
     "data": {
      "text/plain": [
       "str"
      ]
     },
     "execution_count": 7,
     "metadata": {},
     "output_type": "execute_result"
    }
   ],
   "source": [
    "alpaca_api_key = os.getenv(\"ALPACA_API_KEY\")\n",
    "alpaca_secret_key = os.getenv(\"ALPACA_SECRET_KEY\")\n",
    "type(alpaca_api_key)"
   ]
  },
  {
   "cell_type": "code",
   "execution_count": 8,
   "id": "4c0bf0d3-8d3f-4c1f-b5a2-e2f2ae7fc6ac",
   "metadata": {},
   "outputs": [],
   "source": [
    "# Create the Alpaca API object\n",
    "alpaca = tradeapi.REST(\n",
    "    alpaca_api_key,\n",
    "    alpaca_secret_key,\n",
    "    api_version=\"v2\")"
   ]
  },
  {
   "cell_type": "code",
   "execution_count": 10,
   "id": "a616dba4-9e32-443a-a2a8-c0f1bcb0f28c",
   "metadata": {},
   "outputs": [],
   "source": [
    "# Format current date as ISO format\n",
    "end_date = pd.Timestamp(\"2021-04-30\", tz=\"America/New_York\").isoformat()\n",
    "start_date = pd.Timestamp(\"2018-04-30\", tz=\"America/New_York\").isoformat()"
   ]
  },
  {
   "cell_type": "code",
   "execution_count": 87,
   "id": "d0515ad1-02af-476f-96b8-0f4680fc099c",
   "metadata": {},
   "outputs": [],
   "source": [
    "# Set the tickers\n",
    "tickers = [\"SPY\", \"LQD\", \"UNG\", \"PFE\", \"VNQ\"]"
   ]
  },
  {
   "cell_type": "code",
   "execution_count": 88,
   "id": "35f002e0-73f4-429f-b34a-2a16a466e663",
   "metadata": {},
   "outputs": [],
   "source": [
    "# Set timeframe to one day ('1D') for the Alpaca API\n",
    "timeframe = \"1D\""
   ]
  },
  {
   "cell_type": "code",
   "execution_count": 89,
   "id": "1cb298b4-0fa1-4e59-8925-5f5cfebe9b9e",
   "metadata": {},
   "outputs": [
    {
     "data": {
      "text/plain": [
       "LQD  open      0\n",
       "     high      0\n",
       "     low       0\n",
       "     close     0\n",
       "     volume    0\n",
       "PFE  open      0\n",
       "     high      0\n",
       "     low       0\n",
       "     close     0\n",
       "     volume    0\n",
       "SPY  open      0\n",
       "     high      0\n",
       "     low       0\n",
       "     close     0\n",
       "     volume    0\n",
       "UNG  open      0\n",
       "     high      0\n",
       "     low       0\n",
       "     close     0\n",
       "     volume    0\n",
       "VNQ  open      0\n",
       "     high      0\n",
       "     low       0\n",
       "     close     0\n",
       "     volume    0\n",
       "dtype: int64"
      ]
     },
     "execution_count": 89,
     "metadata": {},
     "output_type": "execute_result"
    }
   ],
   "source": [
    "etfs = alpaca.get_barset(\n",
    "    tickers,\n",
    "    timeframe,\n",
    "    start = start_date,\n",
    "    end = end_date,\n",
    "    limit = 1000\n",
    ").df\n",
    "\n",
    "# Display sample data\n",
    "etfs.isna().sum()\n"
   ]
  },
  {
   "cell_type": "code",
   "execution_count": null,
   "id": "d82a95fc-0d80-45cc-9dc9-4a09c8e2a09f",
   "metadata": {},
   "outputs": [],
   "source": []
  }
 ],
 "metadata": {
  "kernelspec": {
   "display_name": "Python [conda env:alpacaenv]",
   "language": "python",
   "name": "conda-env-alpacaenv-py"
  },
  "language_info": {
   "codemirror_mode": {
    "name": "ipython",
    "version": 3
   },
   "file_extension": ".py",
   "mimetype": "text/x-python",
   "name": "python",
   "nbconvert_exporter": "python",
   "pygments_lexer": "ipython3",
   "version": "3.7.9"
  }
 },
 "nbformat": 4,
 "nbformat_minor": 5
}
