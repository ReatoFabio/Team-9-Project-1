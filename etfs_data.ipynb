{
 "cells": [
  {
   "cell_type": "code",
   "execution_count": null,
   "id": "b3bb5b8e",
   "metadata": {},
   "outputs": [],
   "source": [
    "# Initial imports\n",
    "import os\n",
    "import requests\n",
    "import pandas as pd\n",
    "from dotenv import load_dotenv\n",
    "import alpaca_trade_api as tradeapi\n",
    "import matplotlib.pyplot as plt\n",
    "%matplotlib inline"
   ]
  },
  {
   "cell_type": "code",
   "execution_count": null,
   "id": "54aa50bf",
   "metadata": {},
   "outputs": [],
   "source": [
    "# Load .env environment variables\n",
    "load_dotenv(\"../../api_keys.env\")"
   ]
  },
  {
   "cell_type": "code",
   "execution_count": null,
   "id": "d634f508",
   "metadata": {},
   "outputs": [],
   "source": [
    "alpaca_api_key = os.getenv(\"ALPACA_API_KEY\")\n",
    "alpaca_secret_key = os.getenv(\"ALPACA_SECRET_KEY\")\n",
    "type(alpaca_api_key)"
   ]
  },
  {
   "cell_type": "code",
   "execution_count": null,
   "id": "d28c9c71",
   "metadata": {},
   "outputs": [],
   "source": [
    "# Create the Alpaca API object\n",
    "alpaca = tradeapi.REST(\n",
    "    alpaca_api_key,\n",
    "    alpaca_secret_key,\n",
    "    api_version=\"v2\")"
   ]
  },
  {
   "cell_type": "code",
   "execution_count": null,
   "id": "c61fe188",
   "metadata": {},
   "outputs": [],
   "source": [
    "# Format current date as ISO format\n",
    "end_date = pd.Timestamp(\"2021-04-30\", tz=\"America/New_York\").isoformat()\n",
    "start_date = pd.Timestamp(\"2019-11-30\", tz=\"America/New_York\").isoformat()"
   ]
  },
  {
   "cell_type": "code",
   "execution_count": null,
   "id": "71e60fee",
   "metadata": {},
   "outputs": [],
   "source": [
    "# Set the tickers\n",
    "tickers = [\"SPY\", \"LQD\", \"UNG\", \"AGG\", \"VNQ\"]"
   ]
  },
  {
   "cell_type": "code",
   "execution_count": null,
   "id": "a9db22af",
   "metadata": {},
   "outputs": [],
   "source": [
    "# Set timeframe to one day ('1D') for the Alpaca API\n",
    "timeframe = \"1D\""
   ]
  },
  {
   "cell_type": "code",
   "execution_count": null,
   "id": "cb5d816f",
   "metadata": {},
   "outputs": [],
   "source": [
    "etfs = alpaca.get_barset(\n",
    "    tickers,\n",
    "    timeframe,\n",
    "    start = start_date,\n",
    "    end = end_date,\n",
    "    limit = 1000\n",
    ").df\n",
    "\n",
    "# Display sample data\n",
    "etfs.index = etfs.index.date"
   ]
  },
  {
   "cell_type": "code",
   "execution_count": null,
   "id": "5f992cc2",
   "metadata": {},
   "outputs": [],
   "source": [
    "eft_closing_prices_df = pd.DataFrame()\n",
    "\n",
    "eft_closing_prices_df[\"LQD\"] = etfs[\"LQD\"][\"close\"]\n",
    "eft_closing_prices_df[\"AGG\"] = etfs[\"AGG\"][\"close\"]\n",
    "eft_closing_prices_df[\"SPY\"] = etfs[\"SPY\"][\"close\"]\n",
    "eft_closing_prices_df[\"UNG\"] = etfs[\"UNG\"][\"close\"]\n",
    "eft_closing_prices_df[\"VNQ\"] = etfs[\"VNQ\"][\"close\"]\n"
   ]
  },
  {
   "cell_type": "code",
   "execution_count": null,
   "id": "f6d2ddb9",
   "metadata": {},
   "outputs": [],
   "source": [
    "eft_closing_prices_df.head()"
   ]
  },
  {
   "cell_type": "code",
   "execution_count": null,
   "id": "64344370",
   "metadata": {},
   "outputs": [],
   "source": [
    "# Creating a column for 20 day moving average\n",
    "eft_closing_prices_df[\"MovAvg20dLQD\"] = eft_closing_prices_df[\"LQD\"].rolling(window=20).mean()\n",
    "eft_closing_prices_df[\"MovAvg20dPFE\"] = eft_closing_prices_df[\"AGG\"].rolling(window=20).mean()\n",
    "eft_closing_prices_df[\"MovAvg20dSPY\"] = eft_closing_prices_df[\"SPY\"].rolling(window=20).mean()\n",
    "eft_closing_prices_df[\"MovAvg20dUNG\"] = eft_closing_prices_df[\"UNG\"].rolling(window=20).mean()\n",
    "eft_closing_prices_df[\"MovAvg20dVNQ\"] = eft_closing_prices_df[\"VNQ\"].rolling(window=20).mean()"
   ]
  },
  {
   "cell_type": "code",
   "execution_count": null,
   "id": "1a618ad7",
   "metadata": {},
   "outputs": [],
   "source": [
    "# Creating a column for 20 days stadard deviation \n",
    "eft_closing_prices_df[\"StDevLQD\"] = eft_closing_prices_df[\"LQD\"].rolling(window=20).std()\n",
    "eft_closing_prices_df[\"StDevPFE\"] = eft_closing_prices_df[\"AGG\"].rolling(window=20).std()\n",
    "eft_closing_prices_df[\"StDevSPY\"] = eft_closing_prices_df[\"SPY\"].rolling(window=20).std()\n",
    "eft_closing_prices_df[\"StDevUNG\"] = eft_closing_prices_df[\"UNG\"].rolling(window=20).std()\n",
    "eft_closing_prices_df[\"StDevVNQ\"] = eft_closing_prices_df[\"VNQ\"].rolling(window=20).std()"
   ]
  },
  {
   "cell_type": "code",
   "execution_count": null,
   "id": "482e424b",
   "metadata": {},
   "outputs": [],
   "source": [
    "# Creating Upper Band column s.t. upper band = moving avg + (SD*2)\n",
    "eft_closing_prices_df[\"UpperBandLQD\"] = eft_closing_prices_df[\"MovAvg20dLQD\"] + (eft_closing_prices_df[\"StDevLQD\"] * 2)\n",
    "\n",
    "# Creating Lower Band column s.t. lower band = moving avg - (SD*2)\n",
    "eft_closing_prices_df[\"LowerBandLQD\"] = eft_closing_prices_df[\"MovAvg20dLQD\"] - (eft_closing_prices_df[\"StDevLQD\"] * 2)\n",
    "\n",
    "# Plotting\n",
    "lqd_plot = eft_closing_prices_df[[\"LQD\",\"MovAvg20dLQD\",\"UpperBandLQD\",\"LowerBandLQD\"]].plot(figsize=(15,6))\n",
    "plt.grid(True)\n",
    "plt.title(\"LQD Bollinger Bands\")\n",
    "plt.axis(\"tight\")\n",
    "plt.ylabel(\"LQD\")\n",
    "\n",
    "plt.savefig('lqd_plot.jpg')"
   ]
  },
  {
   "cell_type": "code",
   "execution_count": null,
   "id": "5069ab5d",
   "metadata": {},
   "outputs": [],
   "source": [
    "# Creating Upper Band column s.t. upper band = moving avg + (SD*2)\n",
    "eft_closing_prices_df[\"UpperBandPFE\"] = eft_closing_prices_df[\"MovAvg20dPFE\"] + (eft_closing_prices_df[\"StDevPFE\"] * 2)\n",
    "\n",
    "# Creating Lower Band column s.t. lower band = moving avg - (SD*2)\n",
    "eft_closing_prices_df[\"LowerBandPFE\"] = eft_closing_prices_df[\"MovAvg20dPFE\"] - (eft_closing_prices_df[\"StDevPFE\"] * 2)\n",
    "\n",
    "# Plotting\n",
    "agg_plot = eft_closing_prices_df[[\"AGG\",\"MovAvg20dPFE\",\"UpperBandPFE\",\"LowerBandPFE\"]].plot(figsize=(15,6))\n",
    "plt.grid(True)\n",
    "plt.title(\"AGG Bollinger Bands\")\n",
    "plt.axis(\"tight\")\n",
    "plt.ylabel(\"AGG\")\n",
    "\n",
    "plt.savefig('agg_plot.jpg')"
   ]
  },
  {
   "cell_type": "code",
   "execution_count": null,
   "id": "a76e21af",
   "metadata": {},
   "outputs": [],
   "source": [
    "# Creating Upper Band column s.t. upper band = moving avg + (SD*2)\n",
    "eft_closing_prices_df[\"UpperBandSPY\"] = eft_closing_prices_df[\"MovAvg20dSPY\"] + (eft_closing_prices_df[\"StDevSPY\"] * 2)\n",
    "\n",
    "# Creating Lower Band column s.t. lower band = moving avg - (SD*2)\n",
    "eft_closing_prices_df[\"LowerBandSPY\"] = eft_closing_prices_df[\"MovAvg20dSPY\"] - (eft_closing_prices_df[\"StDevSPY\"] * 2)\n",
    "\n",
    "# Plotting\n",
    "spy_plot = eft_closing_prices_df[[\"SPY\",\"MovAvg20dSPY\",\"UpperBandSPY\",\"LowerBandSPY\"]].plot(figsize=(15,6))\n",
    "plt.grid(True)\n",
    "plt.title(\"SPY Bollinger Bands\")\n",
    "plt.axis(\"tight\")\n",
    "plt.ylabel(\"SPY\")\n",
    "\n",
    "plt.savefig('spy_plot.jpg')"
   ]
  },
  {
   "cell_type": "code",
   "execution_count": null,
   "id": "93aed78d",
   "metadata": {},
   "outputs": [],
   "source": [
    "# Creating Upper Band column s.t. upper band = moving avg + (SD*2)\n",
    "eft_closing_prices_df[\"UpperBandUNG\"] = eft_closing_prices_df[\"MovAvg20dUNG\"] + (eft_closing_prices_df[\"StDevUNG\"] * 2)\n",
    "\n",
    "# Creating Lower Band column s.t. lower band = moving avg - (SD*2)\n",
    "eft_closing_prices_df[\"LowerBandUNG\"] = eft_closing_prices_df[\"MovAvg20dUNG\"] - (eft_closing_prices_df[\"StDevUNG\"] * 2)\n",
    "\n",
    "# Plotting\n",
    "ung_plot = eft_closing_prices_df[[\"UNG\",\"MovAvg20dUNG\",\"UpperBandUNG\",\"LowerBandUNG\"]].plot(figsize=(15,6))\n",
    "plt.grid(True)\n",
    "plt.title(\"UNG Bollinger Bands\")\n",
    "plt.axis(\"tight\")\n",
    "plt.ylabel(\"UNG\")\n",
    "\n",
    "plt.savefig('ung_plot.jpg')"
   ]
  },
  {
   "cell_type": "code",
   "execution_count": null,
   "id": "72cf0cbd",
   "metadata": {},
   "outputs": [],
   "source": [
    "# Creating Upper Band column s.t. upper band = moving avg + (SD*2)\n",
    "eft_closing_prices_df[\"UpperBandVNQ\"] = eft_closing_prices_df[\"MovAvg20dVNQ\"] + (eft_closing_prices_df[\"StDevVNQ\"] * 2)\n",
    "\n",
    "# Creating Lower Band column s.t. lower band = moving avg - (SD*2)\n",
    "eft_closing_prices_df[\"LowerBandVNQ\"] = eft_closing_prices_df[\"MovAvg20dVNQ\"] - (eft_closing_prices_df[\"StDevVNQ\"] * 2)\n",
    "\n",
    "# Plotting\n",
    "vnq_plot = eft_closing_prices_df[[\"VNQ\",\"MovAvg20dVNQ\",\"UpperBandVNQ\",\"LowerBandVNQ\"]].plot(figsize=(15,6))\n",
    "plt.grid(True)\n",
    "plt.title(\"VNQ Bollinger Bands\")\n",
    "plt.axis(\"tight\")\n",
    "plt.ylabel(\"VNQ\")\n",
    "\n",
    "plt.savefig('vnq_plot.jpg')"
   ]
  },
  {
   "cell_type": "code",
   "execution_count": null,
   "id": "6da11d25",
   "metadata": {},
   "outputs": [],
   "source": []
  }
 ],
 "metadata": {
  "kernelspec": {
   "display_name": "Python [conda env:alpacaenv]",
   "language": "python",
   "name": "conda-env-alpacaenv-py"
  },
  "language_info": {
   "codemirror_mode": {
    "name": "ipython",
    "version": 3
   },
   "file_extension": ".py",
   "mimetype": "text/x-python",
   "name": "python",
   "nbconvert_exporter": "python",
   "pygments_lexer": "ipython3",
   "version": "3.7.9"
  }
 },
 "nbformat": 4,
 "nbformat_minor": 5
}
