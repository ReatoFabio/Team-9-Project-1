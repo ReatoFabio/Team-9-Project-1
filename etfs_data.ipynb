{
 "cells": [
  {
   "cell_type": "code",
   "execution_count": null,
   "id": "387865f5",
   "metadata": {},
   "outputs": [],
   "source": [
    "# Initial imports\n",
    "import os\n",
    "import requests\n",
    "import pandas as pd\n",
    "from dotenv import load_dotenv\n",
    "import alpaca_trade_api as tradeapi\n",
    "import matplotlib.pyplot as plt\n",
    "%matplotlib inline"
   ]
  },
  {
   "cell_type": "code",
   "execution_count": null,
   "id": "89e81edc",
   "metadata": {},
   "outputs": [],
   "source": [
    "# Load .env environment variables\n",
    "load_dotenv(\"../../api_keys.env\")"
   ]
  },
  {
   "cell_type": "code",
   "execution_count": null,
   "id": "4c4b412e",
   "metadata": {},
   "outputs": [],
   "source": [
    "alpaca_api_key = os.getenv(\"ALPACA_API_KEY\")\n",
    "alpaca_secret_key = os.getenv(\"ALPACA_SECRET_KEY\")\n",
    "type(alpaca_api_key)"
   ]
  },
  {
   "cell_type": "code",
   "execution_count": null,
   "id": "d2b712fd",
   "metadata": {},
   "outputs": [],
   "source": [
    "# Create the Alpaca API object\n",
    "alpaca = tradeapi.REST(\n",
    "    alpaca_api_key,\n",
    "    alpaca_secret_key,\n",
    "    api_version=\"v2\")"
   ]
  },
  {
   "cell_type": "code",
   "execution_count": null,
   "id": "dd810079",
   "metadata": {},
   "outputs": [],
   "source": [
    "# Format current date as ISO format\n",
    "end_date = pd.Timestamp(\"2021-04-30\", tz=\"America/New_York\").isoformat()\n",
    "start_date = pd.Timestamp(\"2019-11-30\", tz=\"America/New_York\").isoformat()"
   ]
  },
  {
   "cell_type": "code",
   "execution_count": null,
   "id": "92d75ec7",
   "metadata": {},
   "outputs": [],
   "source": [
    "# Set the tickers\n",
    "tickers = [\"SPY\", \"LQD\", \"UNG\", \"AGG\", \"VNQ\"]"
   ]
  },
  {
   "cell_type": "code",
   "execution_count": null,
   "id": "245214f9",
   "metadata": {},
   "outputs": [],
   "source": [
    "# Set timeframe to one day ('1D') for the Alpaca API\n",
    "timeframe = \"1D\""
   ]
  },
  {
   "cell_type": "code",
   "execution_count": null,
   "id": "89dee158",
   "metadata": {},
   "outputs": [],
   "source": [
    "etfs = alpaca.get_barset(\n",
    "    tickers,\n",
    "    timeframe,\n",
    "    start = start_date,\n",
    "    end = end_date,\n",
    "    limit = 1000\n",
    ").df\n",
    "\n",
    "# Display sample data\n",
    "etfs.index = etfs.index.date"
   ]
  },
  {
   "cell_type": "code",
   "execution_count": null,
   "id": "42bb457c",
   "metadata": {},
   "outputs": [],
   "source": [
    "eft_closing_prices_df = pd.DataFrame()\n",
    "\n",
    "eft_closing_prices_df[\"LQD\"] = etfs[\"LQD\"][\"close\"]\n",
    "eft_closing_prices_df[\"AGG\"] = etfs[\"AGG\"][\"close\"]\n",
    "eft_closing_prices_df[\"SPY\"] = etfs[\"SPY\"][\"close\"]\n",
    "eft_closing_prices_df[\"UNG\"] = etfs[\"UNG\"][\"close\"]\n",
    "eft_closing_prices_df[\"VNQ\"] = etfs[\"VNQ\"][\"close\"]\n"
   ]
  },
  {
   "cell_type": "code",
   "execution_count": null,
   "id": "108c43e1",
   "metadata": {},
   "outputs": [],
   "source": [
    "eft_closing_prices_df.head()"
   ]
  },
  {
   "cell_type": "code",
   "execution_count": null,
   "id": "a0c82297",
   "metadata": {},
   "outputs": [],
   "source": [
    "# Creating a column for 20 day moving average\n",
    "eft_closing_prices_df[\"MovAvg20dLQD\"] = eft_closing_prices_df[\"LQD\"].rolling(window=20).mean()\n",
    "eft_closing_prices_df[\"MovAvg20dAGG\"] = eft_closing_prices_df[\"AGG\"].rolling(window=20).mean()\n",
    "eft_closing_prices_df[\"MovAvg20dSPY\"] = eft_closing_prices_df[\"SPY\"].rolling(window=20).mean()\n",
    "eft_closing_prices_df[\"MovAvg20dUNG\"] = eft_closing_prices_df[\"UNG\"].rolling(window=20).mean()\n",
    "eft_closing_prices_df[\"MovAvg20dVNQ\"] = eft_closing_prices_df[\"VNQ\"].rolling(window=20).mean()"
   ]
  },
  {
   "cell_type": "code",
   "execution_count": null,
   "id": "f7781bb2",
   "metadata": {},
   "outputs": [],
   "source": [
    "# Creating a column for 20 days stadard deviation \n",
    "eft_closing_prices_df[\"StDevLQD\"] = eft_closing_prices_df[\"LQD\"].rolling(window=20).std()\n",
    "eft_closing_prices_df[\"StDevAGG\"] = eft_closing_prices_df[\"AGG\"].rolling(window=20).std()\n",
    "eft_closing_prices_df[\"StDevSPY\"] = eft_closing_prices_df[\"SPY\"].rolling(window=20).std()\n",
    "eft_closing_prices_df[\"StDevUNG\"] = eft_closing_prices_df[\"UNG\"].rolling(window=20).std()\n",
    "eft_closing_prices_df[\"StDevVNQ\"] = eft_closing_prices_df[\"VNQ\"].rolling(window=20).std()"
   ]
  },
  {
   "cell_type": "code",
   "execution_count": null,
   "id": "d28ab47d",
   "metadata": {},
   "outputs": [],
   "source": [
    "# Creating Upper Band column s.t. upper band = moving avg + (SD*2)\n",
    "eft_closing_prices_df[\"UpperBandLQD\"] = eft_closing_prices_df[\"MovAvg20dLQD\"] + (eft_closing_prices_df[\"StDevLQD\"] * 2)\n",
    "\n",
    "# Creating Lower Band column s.t. lower band = moving avg - (SD*2)\n",
    "eft_closing_prices_df[\"LowerBandLQD\"] = eft_closing_prices_df[\"MovAvg20dLQD\"] - (eft_closing_prices_df[\"StDevLQD\"] * 2)\n",
    "\n",
    "# Plotting\n",
    "eft_closing_prices_df[[\"LQD\",\"MovAvg20dLQD\",\"UpperBandLQD\",\"LowerBandLQD\"]].plot(figsize=(15,6))\n",
    "plt.grid(True)\n",
    "plt.title(\"LQD Bollinger Bands\")\n",
    "plt.axis(\"tight\")\n",
    "plt.ylabel(\"LQD\")\n",
    "plt.savefig('lqd.jpg')"
   ]
  },
  {
   "cell_type": "code",
   "execution_count": null,
   "id": "1e523b51",
   "metadata": {},
   "outputs": [],
   "source": [
    "# Creating Upper Band column s.t. upper band = moving avg + (SD*2)\n",
    "eft_closing_prices_df[\"UpperBandAGG\"] = eft_closing_prices_df[\"MovAvg20dAGG\"] + (eft_closing_prices_df[\"StDevAGG\"] * 2)\n",
    "\n",
    "# Creating Lower Band column s.t. lower band = moving avg - (SD*2)\n",
    "eft_closing_prices_df[\"LowerBandAGG\"] = eft_closing_prices_df[\"MovAvg20dAGG\"] - (eft_closing_prices_df[\"StDevAGG\"] * 2)\n",
    "\n",
    "# Plotting\n",
    "eft_closing_prices_df[[\"AGG\",\"MovAvg20dAGG\",\"UpperBandAGG\",\"LowerBandAGG\"]].plot(figsize=(15,6))\n",
    "plt.grid(True)\n",
    "plt.title(\"AGG Bollinger Bands\")\n",
    "plt.axis(\"tight\")\n",
    "plt.ylabel(\"AGG\")\n",
    "plt.savefig('agg.jpg')"
   ]
  },
  {
   "cell_type": "code",
   "execution_count": null,
   "id": "c6f4367d",
   "metadata": {},
   "outputs": [],
   "source": [
    "# Creating Upper Band column s.t. upper band = moving avg + (SD*2)\n",
    "eft_closing_prices_df[\"UpperBandSPY\"] = eft_closing_prices_df[\"MovAvg20dSPY\"] + (eft_closing_prices_df[\"StDevSPY\"] * 2)\n",
    "\n",
    "# Creating Lower Band column s.t. lower band = moving avg - (SD*2)\n",
    "eft_closing_prices_df[\"LowerBandSPY\"] = eft_closing_prices_df[\"MovAvg20dSPY\"] - (eft_closing_prices_df[\"StDevSPY\"] * 2)\n",
    "\n",
    "# Plotting\n",
    "eft_closing_prices_df[[\"SPY\",\"MovAvg20dSPY\",\"UpperBandSPY\",\"LowerBandSPY\"]].plot(figsize=(15,6))\n",
    "plt.grid(True)\n",
    "plt.title(\"SPY Bollinger Bands\")\n",
    "plt.axis(\"tight\")\n",
    "plt.ylabel(\"SPY\")\n",
    "plt.savefig('spy.jpg')"
   ]
  },
  {
   "cell_type": "code",
   "execution_count": null,
   "id": "7d9e0674",
   "metadata": {},
   "outputs": [],
   "source": [
    "# Creating Upper Band column s.t. upper band = moving avg + (SD*2)\n",
    "eft_closing_prices_df[\"UpperBandUNG\"] = eft_closing_prices_df[\"MovAvg20dUNG\"] + (eft_closing_prices_df[\"StDevUNG\"] * 2)\n",
    "\n",
    "# Creating Lower Band column s.t. lower band = moving avg - (SD*2)\n",
    "eft_closing_prices_df[\"LowerBandUNG\"] = eft_closing_prices_df[\"MovAvg20dUNG\"] - (eft_closing_prices_df[\"StDevUNG\"] * 2)\n",
    "\n",
    "# Plotting\n",
    "eft_closing_prices_df[[\"UNG\",\"MovAvg20dUNG\",\"UpperBandUNG\",\"LowerBandUNG\"]].plot(figsize=(15,6))\n",
    "plt.grid(True)\n",
    "plt.title(\"UNG Bollinger Bands\")\n",
    "plt.axis(\"tight\")\n",
    "plt.ylabel(\"UNG\")\n",
    "plt.savefig('ung.jpg')"
   ]
  },
  {
   "cell_type": "code",
   "execution_count": null,
   "id": "de78ab2b",
   "metadata": {},
   "outputs": [],
   "source": [
    "# Creating Upper Band column s.t. upper band = moving avg + (SD*2)\n",
    "eft_closing_prices_df[\"UpperBandVNQ\"] = eft_closing_prices_df[\"MovAvg20dVNQ\"] + (eft_closing_prices_df[\"StDevVNQ\"] * 2)\n",
    "\n",
    "# Creating Lower Band column s.t. lower band = moving avg - (SD*2)\n",
    "eft_closing_prices_df[\"LowerBandVNQ\"] = eft_closing_prices_df[\"MovAvg20dVNQ\"] - (eft_closing_prices_df[\"StDevVNQ\"] * 2)\n",
    "\n",
    "# Plotting\n",
    "eft_closing_prices_df[[\"VNQ\",\"MovAvg20dVNQ\",\"UpperBandVNQ\",\"LowerBandVNQ\"]].plot(figsize=(15,6))\n",
    "plt.grid(True)\n",
    "plt.title(\"VNQ Bollinger Bands\")\n",
    "plt.axis(\"tight\")\n",
    "plt.ylabel(\"VNQ\")\n",
    "plt.savefig('vnq.jpg')"
   ]
  },
  {
   "cell_type": "code",
   "execution_count": null,
   "id": "f6c1d61c",
   "metadata": {},
   "outputs": [],
   "source": []
  }
 ],
 "metadata": {
  "kernelspec": {
   "display_name": "Python [conda env:alpacaenv]",
   "language": "python",
   "name": "conda-env-alpacaenv-py"
  },
  "language_info": {
   "codemirror_mode": {
    "name": "ipython",
    "version": 3
   },
   "file_extension": ".py",
   "mimetype": "text/x-python",
   "name": "python",
   "nbconvert_exporter": "python",
   "pygments_lexer": "ipython3",
   "version": "3.7.9"
  }
 },
 "nbformat": 4,
 "nbformat_minor": 5
}
