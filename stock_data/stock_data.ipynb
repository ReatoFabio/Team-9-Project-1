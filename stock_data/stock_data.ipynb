{
 "cells": [
  {
   "cell_type": "code",
   "execution_count": 17,
   "id": "imposed-monthly",
   "metadata": {},
   "outputs": [],
   "source": [
    "import os\n",
    "import requests\n",
    "import pandas as pd\n",
    "from dotenv import load_dotenv\n",
    "import alpaca_trade_api as tradeapi\n",
    "\n",
    "%matplotlib inline"
   ]
  },
  {
   "cell_type": "code",
   "execution_count": 18,
   "id": "attempted-robinson",
   "metadata": {},
   "outputs": [
    {
     "data": {
      "text/plain": [
       "True"
      ]
     },
     "execution_count": 18,
     "metadata": {},
     "output_type": "execute_result"
    }
   ],
   "source": [
    "load_dotenv()"
   ]
  },
  {
   "cell_type": "code",
   "execution_count": 19,
   "id": "affiliated-equation",
   "metadata": {},
   "outputs": [],
   "source": [
    "alpaca_api_key = os.getenv(\"ALPACA_API_KEY\")\n",
    "alpaca_secret_key = os.getenv(\"ALPACA_SECRET_KEY\")"
   ]
  },
  {
   "cell_type": "code",
   "execution_count": 20,
   "id": "biblical-interface",
   "metadata": {},
   "outputs": [],
   "source": [
    "alpaca = tradeapi.REST(\n",
    "    alpaca_api_key,\n",
    "    alpaca_secret_key,\n",
    "    api_version=\"v2\")"
   ]
  },
  {
   "cell_type": "code",
   "execution_count": 21,
   "id": "manufactured-mainstream",
   "metadata": {},
   "outputs": [],
   "source": [
    "end = pd.Timestamp(\"2021-04-30\", tz=\"America/New_York\").isoformat()\n",
    "start = pd.Timestamp(\"2018-04-30\", tz=\"America/New_York\").isoformat()\n",
    "timeframe = \"1D\"\n",
    "tickers = ['AAPL', 'DIS', 'NFLX', 'RSG', 'MA', 'XOM']"
   ]
  },
  {
   "cell_type": "code",
   "execution_count": 22,
   "id": "moderate-treasurer",
   "metadata": {},
   "outputs": [],
   "source": [
    "stock_df = alpaca.get_barset(\n",
    "    tickers,\n",
    "    timeframe,\n",
    "    start = start,\n",
    "    end = end,\n",
    "    limit = 1000\n",
    ").df\n",
    "\n",
    "stock_df.index = stock_df.index.date"
   ]
  },
  {
   "cell_type": "code",
   "execution_count": 23,
   "id": "demographic-dayton",
   "metadata": {},
   "outputs": [],
   "source": [
    "stock_closing_prices_df = pd.DataFrame()\n",
    "\n",
    "stock_closing_prices_df[\"AAPL\"] = stock_df[\"AAPL\"][\"close\"]\n",
    "stock_closing_prices_df[\"DIS\"] = stock_df[\"DIS\"][\"close\"]\n",
    "stock_closing_prices_df[\"NFLX\"] = stock_df[\"NFLX\"][\"close\"]\n",
    "stock_closing_prices_df[\"RSG\"] = stock_df[\"RSG\"][\"close\"]\n",
    "stock_closing_prices_df[\"MA\"] = stock_df[\"MA\"][\"close\"]\n",
    "stock_closing_prices_df[\"XOM\"] = stock_df[\"XOM\"][\"close\"]\n"
   ]
  },
  {
   "cell_type": "code",
   "execution_count": null,
   "id": "burning-benjamin",
   "metadata": {},
   "outputs": [],
   "source": []
  }
 ],
 "metadata": {
  "kernelspec": {
   "display_name": "Python 3",
   "language": "python",
   "name": "python3"
  },
  "language_info": {
   "codemirror_mode": {
    "name": "ipython",
    "version": 3
   },
   "file_extension": ".py",
   "mimetype": "text/x-python",
   "name": "python",
   "nbconvert_exporter": "python",
   "pygments_lexer": "ipython3",
   "version": "3.7.9"
  }
 },
 "nbformat": 4,
 "nbformat_minor": 5
}
