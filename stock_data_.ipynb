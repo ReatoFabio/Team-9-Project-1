{
 "cells": [
  {
   "cell_type": "code",
   "execution_count": 3,
   "id": "2efd73fc",
   "metadata": {},
   "outputs": [
    {
     "ename": "ModuleNotFoundError",
     "evalue": "No module named 'alpaca_trade_api'",
     "output_type": "error",
     "traceback": [
      "\u001b[1;31m---------------------------------------------------------------------------\u001b[0m",
      "\u001b[1;31mModuleNotFoundError\u001b[0m                       Traceback (most recent call last)",
      "\u001b[1;32m<ipython-input-3-b4c16986f8a0>\u001b[0m in \u001b[0;36m<module>\u001b[1;34m\u001b[0m\n\u001b[0;32m      4\u001b[0m \u001b[1;32mimport\u001b[0m \u001b[0mpandas\u001b[0m \u001b[1;32mas\u001b[0m \u001b[0mpd\u001b[0m\u001b[1;33m\u001b[0m\u001b[1;33m\u001b[0m\u001b[0m\n\u001b[0;32m      5\u001b[0m \u001b[1;32mfrom\u001b[0m \u001b[0mdotenv\u001b[0m \u001b[1;32mimport\u001b[0m \u001b[0mload_dotenv\u001b[0m\u001b[1;33m\u001b[0m\u001b[1;33m\u001b[0m\u001b[0m\n\u001b[1;32m----> 6\u001b[1;33m \u001b[1;32mimport\u001b[0m \u001b[0malpaca_trade_api\u001b[0m \u001b[1;32mas\u001b[0m \u001b[0mtradeapi\u001b[0m\u001b[1;33m\u001b[0m\u001b[1;33m\u001b[0m\u001b[0m\n\u001b[0m\u001b[0;32m      7\u001b[0m \u001b[1;32mimport\u001b[0m \u001b[0mmatplotlib\u001b[0m\u001b[1;33m.\u001b[0m\u001b[0mpyplot\u001b[0m \u001b[1;32mas\u001b[0m \u001b[0mplt\u001b[0m\u001b[1;33m\u001b[0m\u001b[1;33m\u001b[0m\u001b[0m\n\u001b[0;32m      8\u001b[0m \u001b[0mget_ipython\u001b[0m\u001b[1;33m(\u001b[0m\u001b[1;33m)\u001b[0m\u001b[1;33m.\u001b[0m\u001b[0mrun_line_magic\u001b[0m\u001b[1;33m(\u001b[0m\u001b[1;34m'matplotlib'\u001b[0m\u001b[1;33m,\u001b[0m \u001b[1;34m'inline'\u001b[0m\u001b[1;33m)\u001b[0m\u001b[1;33m\u001b[0m\u001b[1;33m\u001b[0m\u001b[0m\n",
      "\u001b[1;31mModuleNotFoundError\u001b[0m: No module named 'alpaca_trade_api'"
     ]
    }
   ],
   "source": [
    "# Initial imports\n",
    "import os\n",
    "import requests\n",
    "import pandas as pd\n",
    "from dotenv import load_dotenv\n",
    "import alpaca_trade_api as tradeapi\n",
    "import matplotlib.pyplot as plt\n",
    "%matplotlib inline"
   ]
  },
  {
   "cell_type": "code",
   "execution_count": 2,
   "id": "4f3c4e4f",
   "metadata": {},
   "outputs": [
    {
     "data": {
      "text/plain": [
       "True"
      ]
     },
     "execution_count": 2,
     "metadata": {},
     "output_type": "execute_result"
    }
   ],
   "source": [
    "load_dotenv(\"my_keys.env\")"
   ]
  },
  {
   "cell_type": "code",
   "execution_count": 3,
   "id": "eb526388",
   "metadata": {},
   "outputs": [
    {
     "data": {
      "text/plain": [
       "str"
      ]
     },
     "execution_count": 3,
     "metadata": {},
     "output_type": "execute_result"
    }
   ],
   "source": [
    "alpaca_api_key = os.getenv(\"Alpace_API_Key\")\n",
    "alpaca_secret_key = os.getenv(\"Alpaca_API_Secret_Key\")\n",
    "type(alpaca_api_key)"
   ]
  },
  {
   "cell_type": "code",
   "execution_count": 4,
   "id": "93715c2f",
   "metadata": {},
   "outputs": [],
   "source": [
    "alpaca = tradeapi.REST(\n",
    "    alpaca_api_key,\n",
    "    alpaca_secret_key,\n",
    "    api_version=\"v2\")"
   ]
  },
  {
   "cell_type": "code",
   "execution_count": 5,
   "id": "a33cee7d",
   "metadata": {},
   "outputs": [],
   "source": [
    "end = pd.Timestamp(\"2021-04-30\", tz=\"America/New_York\").isoformat()\n",
    "start = pd.Timestamp(\"2019-11-30\", tz=\"America/New_York\").isoformat()\n",
    "timeframe = \"1D\"\n",
    "tickers = ['MSFT', 'DIS', 'NFLX', 'MA', 'XOM']"
   ]
  },
  {
   "cell_type": "code",
   "execution_count": 6,
   "id": "32356c0d",
   "metadata": {},
   "outputs": [],
   "source": [
    "stock_df = alpaca.get_barset(\n",
    "    tickers,\n",
    "    timeframe,\n",
    "    start = start,\n",
    "    end = end,\n",
    "    limit = 1000\n",
    ").df\n",
    "\n",
    "stock_df.index = stock_df.index.date"
   ]
  },
  {
   "cell_type": "code",
   "execution_count": 7,
   "id": "4c242219",
   "metadata": {},
   "outputs": [],
   "source": [
    "stock_closing_prices_df = pd.DataFrame()\n",
    "\n",
    "stock_closing_prices_df[\"MSFT\"] = stock_df[\"MSFT\"][\"close\"]\n",
    "stock_closing_prices_df[\"DIS\"] = stock_df[\"DIS\"][\"close\"]\n",
    "stock_closing_prices_df[\"NFLX\"] = stock_df[\"NFLX\"][\"close\"]\n",
    "stock_closing_prices_df[\"MA\"] = stock_df[\"MA\"][\"close\"]\n",
    "stock_closing_prices_df[\"XOM\"] = stock_df[\"XOM\"][\"close\"]\n"
   ]
  },
  {
   "cell_type": "code",
   "execution_count": 8,
   "id": "19e7a3c6",
   "metadata": {},
   "outputs": [],
   "source": [
    "stock_closing_prices_df[\"MovAvg20dMSFT\"] = stock_closing_prices_df[\"MSFT\"].rolling(window=20).mean()\n",
    "stock_closing_prices_df[\"MovAvg20dDIS\"] = stock_closing_prices_df[\"DIS\"].rolling(window=20).mean()\n",
    "stock_closing_prices_df[\"MovAvg20dNFLX\"] = stock_closing_prices_df[\"NFLX\"].rolling(window=20).mean()\n",
    "stock_closing_prices_df[\"MovAvg20dMA\"] = stock_closing_prices_df[\"MA\"].rolling(window=20).mean()\n",
    "stock_closing_prices_df[\"MovAvg20dXOM\"] = stock_closing_prices_df[\"XOM\"].rolling(window=20).mean()"
   ]
  },
  {
   "cell_type": "code",
   "execution_count": 9,
   "id": "0f4bfebe",
   "metadata": {},
   "outputs": [],
   "source": [
    "stock_closing_prices_df[\"StDevMSFT\"] = stock_closing_prices_df[\"MSFT\"].rolling(window=20).std()\n",
    "stock_closing_prices_df[\"StDevDIS\"] = stock_closing_prices_df[\"DIS\"].rolling(window=20).std()\n",
    "stock_closing_prices_df[\"StDevNFLX\"] = stock_closing_prices_df[\"NFLX\"].rolling(window=20).std()\n",
    "stock_closing_prices_df[\"StDevMA\"] = stock_closing_prices_df[\"MA\"].rolling(window=20).std()\n",
    "stock_closing_prices_df[\"StDevXOM\"] = stock_closing_prices_df[\"XOM\"].rolling(window=20).std()"
   ]
  },
  {
   "cell_type": "code",
   "execution_count": 2,
   "id": "183bd089",
   "metadata": {},
   "outputs": [
    {
     "ename": "NameError",
     "evalue": "name 'stock_closing_prices_df' is not defined",
     "output_type": "error",
     "traceback": [
      "\u001b[1;31m---------------------------------------------------------------------------\u001b[0m",
      "\u001b[1;31mNameError\u001b[0m                                 Traceback (most recent call last)",
      "\u001b[1;32m<ipython-input-2-a93ec87a70b6>\u001b[0m in \u001b[0;36m<module>\u001b[1;34m\u001b[0m\n\u001b[0;32m      1\u001b[0m \u001b[1;31m# Creating Upper Band column s.t. upper band = moving avg + (SD*2)\u001b[0m\u001b[1;33m\u001b[0m\u001b[1;33m\u001b[0m\u001b[1;33m\u001b[0m\u001b[0m\n\u001b[1;32m----> 2\u001b[1;33m \u001b[0mstock_closing_prices_df\u001b[0m\u001b[1;33m[\u001b[0m\u001b[1;34m\"UpperBandMSFT\"\u001b[0m\u001b[1;33m]\u001b[0m \u001b[1;33m=\u001b[0m \u001b[0mstock_closing_prices_df\u001b[0m\u001b[1;33m[\u001b[0m\u001b[1;34m\"MovAvg20dMSFT\"\u001b[0m\u001b[1;33m]\u001b[0m \u001b[1;33m+\u001b[0m \u001b[1;33m(\u001b[0m\u001b[0mstock_closing_prices_df\u001b[0m\u001b[1;33m[\u001b[0m\u001b[1;34m\"StDevMSFT\"\u001b[0m\u001b[1;33m]\u001b[0m \u001b[1;33m*\u001b[0m \u001b[1;36m2\u001b[0m\u001b[1;33m)\u001b[0m\u001b[1;33m\u001b[0m\u001b[1;33m\u001b[0m\u001b[0m\n\u001b[0m\u001b[0;32m      3\u001b[0m \u001b[1;33m\u001b[0m\u001b[0m\n\u001b[0;32m      4\u001b[0m \u001b[1;31m# Creating Lower Band column s.t. lower band = moving avg - (SD*2)\u001b[0m\u001b[1;33m\u001b[0m\u001b[1;33m\u001b[0m\u001b[1;33m\u001b[0m\u001b[0m\n\u001b[0;32m      5\u001b[0m \u001b[0mstock_closing_prices_df\u001b[0m\u001b[1;33m[\u001b[0m\u001b[1;34m\"LowerBandMSFT\"\u001b[0m\u001b[1;33m]\u001b[0m \u001b[1;33m=\u001b[0m \u001b[0mstock_closing_prices_df\u001b[0m\u001b[1;33m[\u001b[0m\u001b[1;34m\"MovAvg20dMSFT\"\u001b[0m\u001b[1;33m]\u001b[0m \u001b[1;33m-\u001b[0m \u001b[1;33m(\u001b[0m\u001b[0mstock_closing_prices_df\u001b[0m\u001b[1;33m[\u001b[0m\u001b[1;34m\"StDevMSFT\"\u001b[0m\u001b[1;33m]\u001b[0m \u001b[1;33m*\u001b[0m \u001b[1;36m2\u001b[0m\u001b[1;33m)\u001b[0m\u001b[1;33m\u001b[0m\u001b[1;33m\u001b[0m\u001b[0m\n",
      "\u001b[1;31mNameError\u001b[0m: name 'stock_closing_prices_df' is not defined"
     ]
    }
   ],
   "source": [
    "# Creating Upper Band column s.t. upper band = moving avg + (SD*2)\n",
    "stock_closing_prices_df[\"UpperBandMSFT\"] = stock_closing_prices_df[\"MovAvg20dMSFT\"] + (stock_closing_prices_df[\"StDevMSFT\"] * 2)\n",
    "\n",
    "# Creating Lower Band column s.t. lower band = moving avg - (SD*2)\n",
    "stock_closing_prices_df[\"LowerBandMSFT\"] = stock_closing_prices_df[\"MovAvg20dMSFT\"] - (stock_closing_prices_df[\"StDevMSFT\"] * 2)\n",
    "\n",
    "# Plotting\n",
    "stock_closing_prices_df[[\"MSFT\",\"MovAvg20dMSFT\",\"UpperBandMSFT\",\"LowerBandMSFT\"]].plot(figsize=(15,6))\n",
    "plt.grid(True)\n",
    "plt.title(\"MSFT Bollinger Bands\")\n",
    "plt.axis(\"tight\")\n",
    "plt.ylabel(\"MSFT\")"
   ]
  },
  {
   "cell_type": "code",
   "execution_count": null,
   "id": "346c06eb",
   "metadata": {},
   "outputs": [],
   "source": [
    "# Creating Upper Band column s.t. upper band = moving avg + (SD*2)\n",
    "stock_closing_prices_df[\"UpperBandDIS\"] = stock_closing_prices_df[\"MovAvg20dDIS\"] + (stock_closing_prices_df[\"StDevDIS\"] * 2)\n",
    "\n",
    "# Creating Lower Band column s.t. lower band = moving avg - (SD*2)\n",
    "stock_closing_prices_df[\"LowerBandDIS\"] = stock_closing_prices_df[\"MovAvg20dDIS\"] - (stock_closing_prices_df[\"StDevDIS\"] * 2)\n",
    "\n",
    "# Plotting\n",
    "stock_closing_prices_df[[\"DIS\",\"MovAvg20dDIS\",\"UpperBandDIS\",\"LowerBandDIS\"]].plot(figsize=(15,6))\n",
    "plt.grid(True)\n",
    "plt.title(\"DIS Bollinger Bands\")\n",
    "plt.axis(\"tight\")\n",
    "plt.ylabel(\"DIS\")"
   ]
  },
  {
   "cell_type": "code",
   "execution_count": null,
   "id": "e603c588",
   "metadata": {},
   "outputs": [],
   "source": [
    "# Creating Upper Band column s.t. upper band = moving avg + (SD*2)\n",
    "stock_closing_prices_df[\"UpperBandMA\"] = stock_closing_prices_df[\"MovAvg20dMA\"] + (stock_closing_prices_df[\"StDevMA\"] * 2)\n",
    "\n",
    "# Creating Lower Band column s.t. lower band = moving avg - (SD*2)\n",
    "stock_closing_prices_df[\"LowerBandMA\"] = stock_closing_prices_df[\"MovAvg20dMA\"] - (stock_closing_prices_df[\"StDevMA\"] * 2)\n",
    "\n",
    "# Plotting\n",
    "stock_closing_prices_df[[\"MA\",\"MovAvg20dMA\",\"UpperBandMA\",\"LowerBandMA\"]].plot(figsize=(15,6))\n",
    "plt.grid(True)\n",
    "plt.title(\"MA Bollinger Bands\")\n",
    "plt.axis(\"tight\")\n",
    "plt.ylabel(\"MA\")"
   ]
  },
  {
   "cell_type": "code",
   "execution_count": null,
   "id": "df6fbfe3",
   "metadata": {},
   "outputs": [],
   "source": [
    "# Creating Upper Band column s.t. upper band = moving avg + (SD*2)\n",
    "stock_closing_prices_df[\"UpperBandNFLX\"] = stock_closing_prices_df[\"MovAvg20dNFLX\"] + (stock_closing_prices_df[\"StDevNFLX\"] * 2)\n",
    "\n",
    "# Creating Lower Band column s.t. lower band = moving avg - (SD*2)\n",
    "stock_closing_prices_df[\"LowerBandNFLX\"] = stock_closing_prices_df[\"MovAvg20dNFLX\"] - (stock_closing_prices_df[\"StDevNFLX\"] * 2)\n",
    "\n",
    "# Plotting\n",
    "stock_closing_prices_df[[\"NFLX\",\"MovAvg20dNFLX\",\"UpperBandNFLX\",\"LowerBandNFLX\"]].plot(figsize=(15,6))\n",
    "plt.grid(True)\n",
    "plt.title(\"NFLX Bollinger Bands\")\n",
    "plt.axis(\"tight\")\n",
    "plt.ylabel(\"NFLX\")"
   ]
  },
  {
   "cell_type": "code",
   "execution_count": null,
   "id": "e7f119d2",
   "metadata": {},
   "outputs": [],
   "source": [
    "# Creating Upper Band column s.t. upper band = moving avg + (SD*2)\n",
    "stock_closing_prices_df[\"UpperBandXOM\"] = stock_closing_prices_df[\"MovAvg20dXOM\"] + (stock_closing_prices_df[\"StDevXOM\"] * 2)\n",
    "\n",
    "# Creating Lower Band column s.t. lower band = moving avg - (SD*2)\n",
    "stock_closing_prices_df[\"LowerBandXOM\"] = stock_closing_prices_df[\"MovAvg20dXOM\"] - (stock_closing_prices_df[\"StDevXOM\"] * 2)\n",
    "\n",
    "# Plotting\n",
    "stock_closing_prices_df[[\"XOM\",\"MovAvg20dXOM\",\"UpperBandXOM\",\"LowerBandXOM\"]].plot(figsize=(15,6))\n",
    "plt.grid(True)\n",
    "plt.title(\"XOM Bollinger Bands\")\n",
    "plt.axis(\"tight\")\n",
    "plt.ylabel(\"XOM\")"
   ]
  },
  {
   "cell_type": "code",
   "execution_count": null,
   "id": "106067d1",
   "metadata": {},
   "outputs": [],
   "source": []
  }
 ],
 "metadata": {
  "kernelspec": {
   "display_name": "Python 3",
   "language": "python",
   "name": "python3"
  },
  "language_info": {
   "codemirror_mode": {
    "name": "ipython",
    "version": 3
   },
   "file_extension": ".py",
   "mimetype": "text/x-python",
   "name": "python",
   "nbconvert_exporter": "python",
   "pygments_lexer": "ipython3",
   "version": "3.7.9"
  }
 },
 "nbformat": 4,
 "nbformat_minor": 5
}
