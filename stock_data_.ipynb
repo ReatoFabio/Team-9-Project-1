{
 "cells": [
  {
   "cell_type": "code",
   "execution_count": null,
   "id": "2efd73fc",
   "metadata": {},
   "outputs": [],
   "source": [
    "# Initial imports\n",
    "import os\n",
    "import requests\n",
    "import pandas as pd\n",
    "from dotenv import load_dotenv\n",
    "import alpaca_trade_api as tradeapi\n",
    "import matplotlib.pyplot as plt\n",
    "%matplotlib inline"
   ]
  },
  {
   "cell_type": "code",
   "execution_count": null,
   "id": "4f3c4e4f",
   "metadata": {},
   "outputs": [],
   "source": [
    "load_dotenv(\"../../api_keys.env\")"
   ]
  },
  {
   "cell_type": "code",
   "execution_count": null,
   "id": "eb526388",
   "metadata": {},
   "outputs": [],
   "source": [
    "alpaca_api_key = os.getenv(\"ALPACA_API_KEY\")\n",
    "alpaca_secret_key = os.getenv(\"ALPACA_SECRET_KEY\")\n",
    "type(alpaca_api_key)"
   ]
  },
  {
   "cell_type": "code",
   "execution_count": null,
   "id": "93715c2f",
   "metadata": {},
   "outputs": [],
   "source": [
    "alpaca = tradeapi.REST(\n",
    "    alpaca_api_key,\n",
    "    alpaca_secret_key,\n",
    "    api_version=\"v2\")"
   ]
  },
  {
   "cell_type": "code",
   "execution_count": null,
   "id": "a33cee7d",
   "metadata": {},
   "outputs": [],
   "source": [
    "end = pd.Timestamp(\"2021-04-30\", tz=\"America/New_York\").isoformat()\n",
    "start = pd.Timestamp(\"2019-11-30\", tz=\"America/New_York\").isoformat()\n",
    "timeframe = \"1D\"\n",
    "tickers = ['MSFT', 'DIS', 'NFLX', 'MA', 'XOM']"
   ]
  },
  {
   "cell_type": "code",
   "execution_count": null,
   "id": "32356c0d",
   "metadata": {},
   "outputs": [],
   "source": [
    "stock_df = alpaca.get_barset(\n",
    "    tickers,\n",
    "    timeframe,\n",
    "    start = start,\n",
    "    end = end,\n",
    "    limit = 1000\n",
    ").df\n",
    "\n",
    "stock_df.index = stock_df.index.date"
   ]
  },
  {
   "cell_type": "code",
   "execution_count": null,
   "id": "4c242219",
   "metadata": {},
   "outputs": [],
   "source": [
    "stock_closing_prices_df = pd.DataFrame()\n",
    "\n",
    "stock_closing_prices_df[\"MSFT\"] = stock_df[\"MSFT\"][\"close\"]\n",
    "stock_closing_prices_df[\"DIS\"] = stock_df[\"DIS\"][\"close\"]\n",
    "stock_closing_prices_df[\"NFLX\"] = stock_df[\"NFLX\"][\"close\"]\n",
    "stock_closing_prices_df[\"MA\"] = stock_df[\"MA\"][\"close\"]\n",
    "stock_closing_prices_df[\"XOM\"] = stock_df[\"XOM\"][\"close\"]\n"
   ]
  },
  {
   "cell_type": "code",
   "execution_count": null,
   "id": "19e7a3c6",
   "metadata": {},
   "outputs": [],
   "source": [
    "stock_closing_prices_df[\"MovAvg20dMSFT\"] = stock_closing_prices_df[\"MSFT\"].rolling(window=20).mean()\n",
    "stock_closing_prices_df[\"MovAvg20dDIS\"] = stock_closing_prices_df[\"DIS\"].rolling(window=20).mean()\n",
    "stock_closing_prices_df[\"MovAvg20dNFLX\"] = stock_closing_prices_df[\"NFLX\"].rolling(window=20).mean()\n",
    "stock_closing_prices_df[\"MovAvg20dMA\"] = stock_closing_prices_df[\"MA\"].rolling(window=20).mean()\n",
    "stock_closing_prices_df[\"MovAvg20dXOM\"] = stock_closing_prices_df[\"XOM\"].rolling(window=20).mean()"
   ]
  },
  {
   "cell_type": "code",
   "execution_count": null,
   "id": "0f4bfebe",
   "metadata": {},
   "outputs": [],
   "source": [
    "stock_closing_prices_df[\"StDevMSFT\"] = stock_closing_prices_df[\"MSFT\"].rolling(window=20).std()\n",
    "stock_closing_prices_df[\"StDevDIS\"] = stock_closing_prices_df[\"DIS\"].rolling(window=20).std()\n",
    "stock_closing_prices_df[\"StDevNFLX\"] = stock_closing_prices_df[\"NFLX\"].rolling(window=20).std()\n",
    "stock_closing_prices_df[\"StDevMA\"] = stock_closing_prices_df[\"MA\"].rolling(window=20).std()\n",
    "stock_closing_prices_df[\"StDevXOM\"] = stock_closing_prices_df[\"XOM\"].rolling(window=20).std()"
   ]
  },
  {
   "cell_type": "code",
   "execution_count": null,
   "id": "183bd089",
   "metadata": {},
   "outputs": [],
   "source": [
    "# Creating Upper Band column s.t. upper band = moving avg + (SD*2)\n",
    "stock_closing_prices_df[\"UpperBandMSFT\"] = stock_closing_prices_df[\"MovAvg20dMSFT\"] + (stock_closing_prices_df[\"StDevMSFT\"] * 2)\n",
    "\n",
    "# Creating Lower Band column s.t. lower band = moving avg - (SD*2)\n",
    "stock_closing_prices_df[\"LowerBandMSFT\"] = stock_closing_prices_df[\"MovAvg20dMSFT\"] - (stock_closing_prices_df[\"StDevMSFT\"] * 2)\n",
    "\n",
    "# Plotting\n",
    "msft_plot = stock_closing_prices_df[[\"MSFT\",\"MovAvg20dMSFT\",\"UpperBandMSFT\",\"LowerBandMSFT\"]].plot(figsize=(15,6))\n",
    "plt.grid(True)\n",
    "plt.title(\"MSFT Bollinger Bands\")\n",
    "plt.axis(\"tight\")\n",
    "plt.ylabel(\"MSFT\")\n",
    "\n",
    "plt.savefig('msft_plot.jpg')"
   ]
  },
  {
   "cell_type": "code",
   "execution_count": null,
   "id": "346c06eb",
   "metadata": {},
   "outputs": [],
   "source": [
    "# Creating Upper Band column s.t. upper band = moving avg + (SD*2)\n",
    "stock_closing_prices_df[\"UpperBandDIS\"] = stock_closing_prices_df[\"MovAvg20dDIS\"] + (stock_closing_prices_df[\"StDevDIS\"] * 2)\n",
    "\n",
    "# Creating Lower Band column s.t. lower band = moving avg - (SD*2)\n",
    "stock_closing_prices_df[\"LowerBandDIS\"] = stock_closing_prices_df[\"MovAvg20dDIS\"] - (stock_closing_prices_df[\"StDevDIS\"] * 2)\n",
    "\n",
    "# Plotting\n",
    "dis_plot = stock_closing_prices_df[[\"DIS\",\"MovAvg20dDIS\",\"UpperBandDIS\",\"LowerBandDIS\"]].plot(figsize=(15,6))\n",
    "plt.grid(True)\n",
    "plt.title(\"DIS Bollinger Bands\")\n",
    "plt.axis(\"tight\")\n",
    "plt.ylabel(\"DIS\")\n",
    "\n",
    "plt.savefig('dis_plot.jpg')"
   ]
  },
  {
   "cell_type": "code",
   "execution_count": null,
   "id": "e603c588",
   "metadata": {},
   "outputs": [],
   "source": [
    "# Creating Upper Band column s.t. upper band = moving avg + (SD*2)\n",
    "stock_closing_prices_df[\"UpperBandMA\"] = stock_closing_prices_df[\"MovAvg20dMA\"] + (stock_closing_prices_df[\"StDevMA\"] * 2)\n",
    "\n",
    "# Creating Lower Band column s.t. lower band = moving avg - (SD*2)\n",
    "stock_closing_prices_df[\"LowerBandMA\"] = stock_closing_prices_df[\"MovAvg20dMA\"] - (stock_closing_prices_df[\"StDevMA\"] * 2)\n",
    "\n",
    "# Plotting\n",
    "ma_plot = stock_closing_prices_df[[\"MA\",\"MovAvg20dMA\",\"UpperBandMA\",\"LowerBandMA\"]].plot(figsize=(15,6))\n",
    "plt.grid(True)\n",
    "plt.title(\"MA Bollinger Bands\")\n",
    "plt.axis(\"tight\")\n",
    "plt.ylabel(\"MA\")\n",
    "\n",
    "plt.savefig('ma_plot.jpg')"
   ]
  },
  {
   "cell_type": "code",
   "execution_count": null,
   "id": "df6fbfe3",
   "metadata": {},
   "outputs": [],
   "source": [
    "# Creating Upper Band column s.t. upper band = moving avg + (SD*2)\n",
    "stock_closing_prices_df[\"UpperBandNFLX\"] = stock_closing_prices_df[\"MovAvg20dNFLX\"] + (stock_closing_prices_df[\"StDevNFLX\"] * 2)\n",
    "\n",
    "# Creating Lower Band column s.t. lower band = moving avg - (SD*2)\n",
    "stock_closing_prices_df[\"LowerBandNFLX\"] = stock_closing_prices_df[\"MovAvg20dNFLX\"] - (stock_closing_prices_df[\"StDevNFLX\"] * 2)\n",
    "\n",
    "# Plotting\n",
    "nflx_plot = stock_closing_prices_df[[\"NFLX\",\"MovAvg20dNFLX\",\"UpperBandNFLX\",\"LowerBandNFLX\"]].plot(figsize=(15,6))\n",
    "plt.grid(True)\n",
    "plt.title(\"NFLX Bollinger Bands\")\n",
    "plt.axis(\"tight\")\n",
    "plt.ylabel(\"NFLX\")\n",
    "\n",
    "plt.savefig('nflx_plot.jpg')"
   ]
  },
  {
   "cell_type": "code",
   "execution_count": null,
   "id": "e7f119d2",
   "metadata": {},
   "outputs": [],
   "source": [
    "# Creating Upper Band column s.t. upper band = moving avg + (SD*2)\n",
    "stock_closing_prices_df[\"UpperBandXOM\"] = stock_closing_prices_df[\"MovAvg20dXOM\"] + (stock_closing_prices_df[\"StDevXOM\"] * 2)\n",
    "\n",
    "# Creating Lower Band column s.t. lower band = moving avg - (SD*2)\n",
    "stock_closing_prices_df[\"LowerBandXOM\"] = stock_closing_prices_df[\"MovAvg20dXOM\"] - (stock_closing_prices_df[\"StDevXOM\"] * 2)\n",
    "\n",
    "# Plotting\n",
    "xom_plot = stock_closing_prices_df[[\"XOM\",\"MovAvg20dXOM\",\"UpperBandXOM\",\"LowerBandXOM\"]].plot(figsize=(15,6))\n",
    "plt.grid(True)\n",
    "plt.title(\"XOM Bollinger Bands\")\n",
    "plt.axis(\"tight\")\n",
    "plt.ylabel(\"XOM\")\n",
    "\n",
    "plt.savefig('xom_plot.jpg')"
   ]
  },
  {
   "cell_type": "code",
   "execution_count": null,
   "id": "106067d1",
   "metadata": {},
   "outputs": [],
   "source": []
  }
 ],
 "metadata": {
  "kernelspec": {
   "display_name": "Python [conda env:alpacaenv]",
   "language": "python",
   "name": "conda-env-alpacaenv-py"
  },
  "language_info": {
   "codemirror_mode": {
    "name": "ipython",
    "version": 3
   },
   "file_extension": ".py",
   "mimetype": "text/x-python",
   "name": "python",
   "nbconvert_exporter": "python",
   "pygments_lexer": "ipython3",
   "version": "3.7.9"
  }
 },
 "nbformat": 4,
 "nbformat_minor": 5
}
